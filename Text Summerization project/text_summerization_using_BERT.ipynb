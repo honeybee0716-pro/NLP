{
  "nbformat": 4,
  "nbformat_minor": 0,
  "metadata": {
    "colab": {
      "provenance": [],
      "authorship_tag": "ABX9TyPvETJ6mcNKSwoSd57d3JV7",
      "include_colab_link": true
    },
    "kernelspec": {
      "name": "python3",
      "display_name": "Python 3"
    },
    "language_info": {
      "name": "python"
    }
  },
  "cells": [
    {
      "cell_type": "markdown",
      "metadata": {
        "id": "view-in-github",
        "colab_type": "text"
      },
      "source": [
        "<a href=\"https://colab.research.google.com/github/usmanyousaaf/NLP/blob/master/text_summerization_using_BERT.ipynb\" target=\"_parent\"><img src=\"https://colab.research.google.com/assets/colab-badge.svg\" alt=\"Open In Colab\"/></a>"
      ]
    },
    {
      "cell_type": "markdown",
      "source": [
        "# Text Summarizer using T5 Transformer\n"
      ],
      "metadata": {
        "id": "w96xlsNQ_ug-"
      }
    },
    {
      "cell_type": "code",
      "source": [
        "pip install transformers"
      ],
      "metadata": {
        "id": "AAdPUYEPt6M_"
      },
      "execution_count": null,
      "outputs": []
    },
    {
      "cell_type": "code",
      "source": [
        "# Import necessary libraries\n",
        "import torch\n",
        "from transformers import AutoTokenizer, AutoModelForSeq2SeqLM\n",
        "\n",
        "def main():\n",
        "    # Set input text to be summarized\n",
        "    input_text = \"The quick brown fox jumps over the lazy dog. The quick brown fox jumps over the lazy dog again. The quick brown fox jumps over the lazy dog a third time.\"\n",
        "\n",
        "    # Set maximum length for summary\n",
        "    max_length = 10\n",
        "\n",
        "    # Load pre-trained BERT model and tokenizer\n",
        "    model_name = \"t5-base\"\n",
        "    tokenizer = AutoTokenizer.from_pretrained(model_name)\n",
        "    model = AutoModelForSeq2SeqLM.from_pretrained(model_name)\n",
        "\n",
        "    # Encode input text using tokenizer\n",
        "    inputs = tokenizer.encode(input_text, return_tensors=\"pt\", padding=True, truncation=True, max_length=1024)\n",
        "\n",
        "    # Generate summary using model\n",
        "    summary_ids = model.generate(inputs, max_length=max_length, num_beams=4, early_stopping=True)\n",
        "    summary = tokenizer.decode(summary_ids[0], skip_special_tokens=True)\n",
        "\n",
        "    # Print summary\n",
        "    print(summary)\n",
        "\n",
        "if __name__ == \"__main__\":\n",
        "    main()\n"
      ],
      "metadata": {
        "colab": {
          "base_uri": "https://localhost:8080/"
        },
        "id": "pNmWqsp5shc6",
        "outputId": "34443958-4bc3-4e37-bb39-46e748dd6837"
      },
      "execution_count": 13,
      "outputs": [
        {
          "output_type": "stream",
          "name": "stdout",
          "text": [
            ". The quick brown fox jumps\n"
          ]
        }
      ]
    },
    {
      "cell_type": "markdown",
      "source": [
        "### USING USER INPUT"
      ],
      "metadata": {
        "id": "6Uj4mXhr-FQJ"
      }
    },
    {
      "cell_type": "code",
      "source": [
        "# Import necessary libraries\n",
        "import torch\n",
        "from transformers import AutoTokenizer, AutoModelForSeq2SeqLM\n",
        "\n",
        "# Define main function\n",
        "def main():\n",
        "    # Set input text to be summarized\n",
        "    input_text = input(\"Enter the text to be summarized: \")\n",
        "    print(\"-------------------------------------\")\n",
        "    # Print input size\n",
        "    print(f\"Input size: {len(input_text)} characters\")\n",
        "    print(\"\")\n",
        "    # Set maximum length for summary\n",
        "    #max_length = int(input(\"Enter the max_length text of the summarized text: \"))\n",
        "    max_length = 50\n",
        "  \n",
        "    # Load pre-trained T5 model and tokenizer\n",
        "    model_name = \"t5-base\"\n",
        "    tokenizer = AutoTokenizer.from_pretrained(model_name)\n",
        "    model = AutoModelForSeq2SeqLM.from_pretrained(model_name)\n",
        "\n",
        "    # Encode input text using tokenizer\n",
        "    inputs = tokenizer.encode(input_text, return_tensors=\"pt\", padding=True, truncation=True, max_length=1024)\n",
        "\n",
        "    # Generate summary using model\n",
        "    summary_ids = model.generate(inputs, max_length=max_length, num_beams=4, early_stopping=True)\n",
        "    summary = tokenizer.decode(summary_ids[0], skip_special_tokens=True)\n",
        "\n",
        "    # Print summary\n",
        "    print(\"\")\n",
        "    print(f\"Output size: {len(summary)} characters\")\n",
        "    print(\"-------------------------------------\")\n",
        "    print(f\"\\nSummary: {summary}\")\n",
        "    \n",
        "# Check if main function should be called\n",
        "if __name__ == \"__main__\":\n",
        "    main()\n"
      ],
      "metadata": {
        "colab": {
          "base_uri": "https://localhost:8080/"
        },
        "id": "khosQHp45o5c",
        "outputId": "84d9a11a-c62d-44f0-ba5b-455a79077523"
      },
      "execution_count": 19,
      "outputs": [
        {
          "output_type": "stream",
          "name": "stdout",
          "text": [
            "Enter the text to be summarized: Pakistan (Urdu: پاکِستان [ˈpaːkɪstaːn]),[d] officially the Islamic Republic of Pakistan (اِسلامی جمہوریہ پاکِستان), is a country in South Asia. It is the world's fifth-most populous country, with a population of almost 243 million people, and has the world's second-largest Muslim population just behind Indonesia.[16] Pakistan is the 33rd-largest country in the world by area and the second-largest in South Asia, spanning 881,913 square kilometres (340,509 square miles). It has a 1,046-kilometre (650-mile) coastline along the Arabian Sea and Gulf of Oman in the south, and is bordered by India to the east, Afghanistan to the west, Iran to the southwest, and China to the northeast. It is separated narrowly from Tajikistan by Afghanistan's Wakhan Corridor in the north, and also shares a maritime border with Oman. Islamabad is the nation's capital, while Karachi is its largest city and financial centre.  Pakistan is the site of several ancient cultures, including the Paleolithic Soanian culture, the Neolithic site of Mehrgarh,[17] the Indus Valley civilisation of the Bronze Age, the most extensive of the civilisations of the Afro-Eurasia,[18][19] and the ancient Gandhara civilisation.[20] The regions that comprise the modern state of Pakistan were the realm of multiple empires and dynasties, including the Achaemenid, the Maurya, the Kushan, the Gupta;[21] the Umayyad Caliphate in its southern regions, the Samma, the Hindu Shahis, the Shah Miris, the Ghaznavids, the Delhi Sultanate, the Mughals,[22] and most recently, the British Raj from 1858 to 1947.  Spurred by the Pakistan Movement, which sought a homeland for the Muslims of British India, and election victories in 1946 by the All-India Muslim League, Pakistan gained independence in 1947 after the Partition of the British Indian Empire, which awarded separate statehood to its Muslim-majority regions and was accompanied by an unparalleled mass migration and loss of life.[23] Initially a Dominion of the British Commonwealth, Pakistan officially drafted its constitution in 1956, and emerged as a declared Islamic republic. In 1971, the exclave of East Pakistan seceded as the new country of Bangladesh after a nine-month-long civil war. In the following four decades, Pakistan has been ruled by governments whose descriptions, although complex, commonly alternated between civilian and military, democratic and authoritarian, relatively secular and Islamist.[24] Pakistan elected a civilian government in 2008, and in 2010 adopted a parliamentary system with periodic elections.[25]  Pakistan is a middle power nation,[26][27][28][29][30][31] and has the world's sixth-largest standing armed forces. It is a declared nuclear-weapons state, and is ranked amongst the emerging and growth-leading economies,[32] with a large and rapidly-growing middle class.[33] Pakistan's political history since independence has been characterised by periods of significant economic and military growth as well as those of political and economic instability. It is an ethnically and linguistically diverse country, with similarly diverse geography and wildlife. The country continues to face challenges, including poverty, illiteracy, corruption and terrorism.[34] Pakistan is a member of the United Nations, the Shanghai Cooperation Organisation, the Organisation of Islamic Cooperation, the Commonwealth of Nations, the South Asian Association for Regional Cooperation, and the Islamic Military Counter-Terrorism Coalition, and is designated as a major non-NATO ally by the United States.  Etymology The name Pakistan was coined by Choudhry Rahmat Ali, a Pakistan Movement activist, who in January 1933 first published it in a pamphlet Now or Never, using it as an acronym.[35] Rahmat Ali explained: \"It is composed of letters taken from the names of all our homelands, Indian and Asian, Panjab, Afghania, Kashmir, Sindh, and Baluchistan.\" He added that \"Pakistan is both a Persian and Urdu word... It means the land of the Paks, the spiritually pure and clean.\"[36] Etymologists note that پاک pāk, is 'pure' in Persian and Pashto[37] and the Persian suffix ـستان -stan means 'land' or 'place of'.[38][39][40][41]  Rahmat Ali's concept of Pakistan only related to the north-west area of the Indian subcontinent. He also proposed the name \"Banglastan\" for the Muslim areas of Bengal and \"Osmanistan\" for Hyderabad State, as well as a political federation between the three.[42][43]  History Main articles: History of Pakistan, Indus Valley civilisation, Vedic period, Maurya Empire, Indo-Greek Kingdom, Gupta Empire, Kushan Empire, Sikh Empire, and Mughal Empire See also: Outline of South Asian history Indus Valley Civilization  Priest-King from Mohenjo-Daro (c. 2500 BCE) Some of the earliest ancient human civilisations in South Asia originated from areas encompassing present-day Pakistan.[44] The earliest known inhabitants in the region were Soanian during the Lower Paleolithic, of whom stone tools have been found in the Soan Valley of Punjab.[45] The Indus region, which covers most of present day Pakistan, was the site of several successive ancient cultures including the Neolithic Mehrgarh[46] and the Bronze Age Indus Valley civilisation[47][48] (2,800–1,800 BCE) at Harappa and Mohenjo-Daro.[49]  Vedic Period  Standing Buddha from Gandhara (1st–2nd century CE) The Vedic period (1500–500 BCE) was characterised by an Indo-Aryan culture; during this period the Vedas, the oldest scriptures associated with Hinduism, were composed, and this culture later became well established in the region.[50] Multan was an important Hindu pilgrimage centre.[51] The Vedic civilisation flourished in the ancient Gandhāran city of Takṣaśilā, now Taxila in the Punjab, which was founded around 1000 BCE.[52][46]  Classical Period The western regions of Pakistan became part of Achaemenid Empire around 519 BCE. In 326 BCE, Alexander the Great conquered the region by defeating various local rulers, most notably, the King Porus, at Jhelum.[53] It was followed by the Maurya Empire, founded by Chandragupta Maurya and extended by Ashoka the Great, until 185 BCE. The Indo-Greek Kingdom founded by Demetrius of Bactria (180–165 BCE) included Gandhara and Punjab and reached its greatest extent under Menander (165–150 BCE), prospering the Greco-Buddhist culture in the region.[46][54] Taxila had one of the earliest universities and centres of higher education in the world, which was established during the late Vedic period in the 6th century BCE.[55][56] The school consisted of several monasteries without large dormitories or lecture halls where the religious instruction was provided on an individualistic basis.[56] The ancient university was documented by the invading forces of Alexander the Great and was also recorded by Chinese pilgrims in the 4th or 5th century CE.[57]  At its zenith, the Rai Dynasty (489–632 CE) ruled Sindh and the surrounding territories.[58]  Islamic conquest The Arab conqueror Muhammad ibn Qasim conquered Sindh in 711 CE.[59][60] The Pakistan government's official chronology claims this as the time when the foundation of Pakistan was laid[59][61] but the concept of Pakistan arrived in the 19th century. The Early Medieval period (642–1219 CE) witnessed the spread of Islam in the region. During this period, Sufi missionaries played a pivotal role in converting a majority of the regional Buddhist and Hindu population to Islam.[62] Upon the defeat of the Turk and Hindu Shahi dynasties which governed the Kabul Valley, Gandhara (present-day Khyber Pakhtunkwa), and western Punjab in the 7th to 11th centuries CE, several successive Muslim empires ruled over the region, including the Ghaznavid Empire (975–1187 CE), the Ghorid Kingdom, and the Delhi Sultanate (1206–1526 CE). The Lodi dynasty, the last of the Delhi Sultanate, was replaced by the Mughal Empire (1526–1857 CE).\n",
            "-------------------------------------\n",
            "Input size: 7880 characters\n",
            "\n",
            "Enter the max_length text of the summarized text: 500\n",
            "\n",
            "Output size: 155 characters\n",
            "-------------------------------------\n",
            "\n",
            "Summary: the name Pakistan was coined by an activist who in 1933 first published it in a pamphlet Now or Never. etymologists note that  pk, is 'the spiritually pure\n"
          ]
        }
      ]
    }
  ]
}