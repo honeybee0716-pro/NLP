{
  "cells": [
    {
      "cell_type": "markdown",
      "source": [
        "# Apply pretrain Bert and Robert"
      ],
      "metadata": {
        "id": "82Ew1LHtRhi1"
      }
    },
    {
      "cell_type": "code",
      "source": [
        "%%capture\n",
        "!pip install transformers\n",
        "!pip install googlesearch-python"
      ],
      "metadata": {
        "id": "2Sboio7AxNZG"
      },
      "execution_count": null,
      "outputs": []
    },
    {
      "cell_type": "code",
      "source": [
        "%%capture\n",
        "!pip install transformers\n",
        "!pip install wikipedia\n",
        "!pip install streamlit\n",
        "import wikipedia as wiki\n",
        "import streamlit as st\n",
        "import torch"
      ],
      "metadata": {
        "id": "wyG3vxjPxPkk"
      },
      "execution_count": null,
      "outputs": []
    },
    {
      "cell_type": "code",
      "source": [
        "import wikipedia as wiki\n",
        "import torch\n",
        "from transformers import AutoTokenizer, AutoModelForQuestionAnswering\n",
        "\n",
        "def load_model_and_tokenizer(model_name):\n",
        "    tokenizer = AutoTokenizer.from_pretrained(model_name)\n",
        "    model = AutoModelForQuestionAnswering.from_pretrained(model_name)\n",
        "    return tokenizer, model\n",
        "\n",
        "def get_relevant_content(question, results):\n",
        "    content = \"\"\n",
        "    for result in results[:3]:\n",
        "        try:\n",
        "            page = wiki.page(result)\n",
        "            content += page.summary\n",
        "        except wiki.exceptions.PageError:\n",
        "            continue\n",
        "    return content\n",
        "\n",
        "def main():\n",
        "    ques = input(\"Enter your question: \")\n",
        "    bert_model_name = \"bert-large-uncased\"\n",
        "    roberta_model_name = \"roberta-large\"\n",
        "\n",
        "    # Load the models and tokenizers\n",
        "    bert_tokenizer, bert_model = load_model_and_tokenizer(bert_model_name)\n",
        "    roberta_tokenizer, roberta_model = load_model_and_tokenizer(roberta_model_name)\n",
        "\n",
        "    print(f\"Question: {ques}\")\n",
        "\n",
        "    # Search and retrieve relevant content\n",
        "    results = wiki.search(ques)\n",
        "    text = get_relevant_content(ques, results)\n",
        "\n",
        "    # Get answers from BERT and Roberta\n",
        "    inputs_bert = bert_tokenizer.encode_plus(ques, text, return_tensors='pt', max_length=512, truncation=True)\n",
        "    answer_start_scores_bert, answer_end_scores_bert = bert_model(**inputs_bert).values()\n",
        "\n",
        "    inputs_roberta = roberta_tokenizer.encode_plus(ques, text, return_tensors='pt', max_length=512, truncation=True)\n",
        "    answer_start_scores_roberta, answer_end_scores_roberta = roberta_model(**inputs_roberta).values()\n",
        "\n",
        "    # Determine answers and print them with model identifiers\n",
        "    answer_start_bert = torch.argmax(answer_start_scores_bert)\n",
        "    answer_end_bert = torch.argmax(answer_end_scores_bert) + 1\n",
        "    ans_bert = bert_tokenizer.decode(inputs_bert['input_ids'][0][answer_start_bert:answer_end_bert], skip_special_tokens=True)\n",
        "\n",
        "    answer_start_roberta = torch.argmax(answer_start_scores_roberta)\n",
        "    answer_end_roberta = torch.argmax(answer_end_scores_roberta) + 1\n",
        "    ans_roberta = roberta_tokenizer.decode(inputs_roberta['input_ids'][0][answer_start_roberta:answer_end_roberta], skip_special_tokens=True)\n",
        "\n",
        "    print(\"Answer from BERT:\", ans_bert)\n",
        "    print(\"Answer from Roberta:\", ans_roberta)\n",
        "\n",
        "if __name__ == \"__main__\":\n",
        "    main()"
      ],
      "metadata": {
        "colab": {
          "base_uri": "https://localhost:8080/"
        },
        "id": "aAd6N_UYxPt6",
        "outputId": "296b5d6c-770f-466c-e298-3237fc4b5025"
      },
      "execution_count": null,
      "outputs": [
        {
          "name": "stdout",
          "output_type": "stream",
          "text": [
            "Enter your question: who is cristiano ronaldo?\n"
          ]
        },
        {
          "output_type": "stream",
          "name": "stderr",
          "text": [
            "Some weights of BertForQuestionAnswering were not initialized from the model checkpoint at bert-large-uncased and are newly initialized: ['qa_outputs.bias', 'qa_outputs.weight']\n",
            "You should probably TRAIN this model on a down-stream task to be able to use it for predictions and inference.\n",
            "Some weights of RobertaForQuestionAnswering were not initialized from the model checkpoint at roberta-large and are newly initialized: ['qa_outputs.bias', 'qa_outputs.weight']\n",
            "You should probably TRAIN this model on a down-stream task to be able to use it for predictions and inference.\n"
          ]
        },
        {
          "output_type": "stream",
          "name": "stdout",
          "text": [
            "Question: who is cristiano ronaldo?\n",
            "Answer from BERT: ##ibbling, playmaking, passing and goalscoring. it has been compared to past global sports rivalries such as the muhammad ali – joe frazier rivalry in boxing, the prost – senna rivalry in motorsport, and the tennis rivalries between federer – nadal and borg – mcenroe. some commentators choose to analyse the differing physiques and playing styles of the two, while part of the debate revolves around the contrasting personalities of the two players ; ronaldo is sometimes described as someone of temperamental character while messi is considered to have a more reserved personality. after messi led argentina to victory in the 2022 fifa world cup, a number of football critics, commentators and players have opined that messi has settled the debate between the two players. over the course of his career, portuguese footballer cristiano\n",
            "Answer from Roberta:  be considered as two of the best players of all time. They are two of the most decorated footballers ever, having won a combined 79 official trophies (Messi 44, Ronaldo 35) during their senior careers thus far, and have regularly broken the 50-goal barrier in a single season. They are the only two players to score over 800 goals each in their careers for club and country. Ronaldo holds the record for most official goals in\n"
          ]
        }
      ]
    },
    {
      "cell_type": "code",
      "source": [
        "%%capture\n",
        "!pip install wikipedia\n",
        "!pip install sumy"
      ],
      "metadata": {
        "id": "F-rHzQSIxP07"
      },
      "execution_count": null,
      "outputs": []
    },
    {
      "cell_type": "code",
      "source": [
        "import nltk\n",
        "nltk.download('punkt')"
      ],
      "metadata": {
        "colab": {
          "base_uri": "https://localhost:8080/"
        },
        "id": "-vJIMmTzxP5v",
        "outputId": "3af7d0f6-43bd-4cad-ddd2-6e9dabd65168"
      },
      "execution_count": null,
      "outputs": [
        {
          "output_type": "stream",
          "name": "stderr",
          "text": [
            "[nltk_data] Downloading package punkt to /root/nltk_data...\n",
            "[nltk_data]   Package punkt is already up-to-date!\n"
          ]
        },
        {
          "output_type": "execute_result",
          "data": {
            "text/plain": [
              "True"
            ]
          },
          "metadata": {},
          "execution_count": 5
        }
      ]
    },
    {
      "cell_type": "code",
      "source": [
        "import pandas as pd\n",
        "import torch\n",
        "from transformers import AutoTokenizer, AutoModelForQuestionAnswering\n",
        "\n",
        "# Load BERT and Roberta models fine-tuned for question-answering\n",
        "bert_model_name = \"bert-large-uncased\"\n",
        "roberta_model_name = \"roberta-large\"\n",
        "bert_tokenizer = AutoTokenizer.from_pretrained(bert_model_name)\n",
        "roberta_tokenizer = AutoTokenizer.from_pretrained(roberta_model_name)\n",
        "bert_model = AutoModelForQuestionAnswering.from_pretrained(bert_model_name)\n",
        "roberta_model = AutoModelForQuestionAnswering.from_pretrained(roberta_model_name)\n",
        "\n",
        "# Load the CSV file\n",
        "csv_file = '/content/161QA.csv'\n",
        "\n",
        "def generate_and_append_answers_to_csv(csv_file):\n",
        "    # Read the CSV file into a DataFrame\n",
        "    df = pd.read_csv(csv_file)\n",
        "\n",
        "    for index, row in df.iterrows():\n",
        "        question = row['QUESTIONS']\n",
        "        actual_answer = str(row['actual_Answer'])  # Convert to string\n",
        "\n",
        "        # Generate answers using BERT\n",
        "        inputs_bert = bert_tokenizer.encode_plus(\n",
        "            question,\n",
        "            actual_answer,\n",
        "            return_tensors='pt',\n",
        "            max_length=512,\n",
        "            truncation=True,\n",
        "            padding=True,  # Add padding\n",
        "        )\n",
        "\n",
        "        answer_start_scores_bert, answer_end_scores_bert = bert_model(**inputs_bert).values()\n",
        "        answer_start_bert = torch.argmax(answer_start_scores_bert)\n",
        "        answer_end_bert = torch.argmax(answer_end_scores_bert) + 1\n",
        "        ans_bert = bert_tokenizer.decode(inputs_bert['input_ids'][0][answer_start_bert:answer_end_bert], skip_special_tokens=True)\n",
        "\n",
        "        # Generate answers using Roberta\n",
        "        inputs_roberta = roberta_tokenizer.encode_plus(\n",
        "            question,\n",
        "            actual_answer,\n",
        "            return_tensors='pt',\n",
        "            max_length=512,\n",
        "            truncation=True,\n",
        "            padding=True,  # Add padding\n",
        "        )\n",
        "        answer_start_scores_roberta, answer_end_scores_roberta = roberta_model(**inputs_roberta).values()\n",
        "        answer_start_roberta = torch.argmax(answer_start_scores_roberta)\n",
        "        answer_end_roberta = torch.argmax(answer_end_scores_roberta) + 1\n",
        "        ans_roberta = roberta_tokenizer.decode(inputs_roberta['input_ids'][0][answer_start_roberta:answer_end_roberta], skip_special_tokens=True)\n",
        "\n",
        "        # Update the DataFrame with BERT and Roberta answers\n",
        "        df.at[index, 'Answer_Roberta'] = ans_roberta\n",
        "        df.at[index, 'Answer_Bert'] = ans_bert\n",
        "\n",
        "    # Save the updated DataFrame back to the CSV file\n",
        "    df.to_csv(csv_file, index=False)\n",
        "\n",
        "if __name__ == \"__main__\":\n",
        "    generate_and_append_answers_to_csv(csv_file)\n"
      ],
      "metadata": {
        "colab": {
          "base_uri": "https://localhost:8080/"
        },
        "id": "H1l12PeBxP_B",
        "outputId": "75354d0c-349f-4c19-eac2-a1ca32bd4eaf"
      },
      "execution_count": null,
      "outputs": [
        {
          "output_type": "stream",
          "name": "stderr",
          "text": [
            "Some weights of BertForQuestionAnswering were not initialized from the model checkpoint at bert-large-uncased and are newly initialized: ['qa_outputs.bias', 'qa_outputs.weight']\n",
            "You should probably TRAIN this model on a down-stream task to be able to use it for predictions and inference.\n",
            "Some weights of RobertaForQuestionAnswering were not initialized from the model checkpoint at roberta-large and are newly initialized: ['qa_outputs.bias', 'qa_outputs.weight']\n",
            "You should probably TRAIN this model on a down-stream task to be able to use it for predictions and inference.\n"
          ]
        }
      ]
    },
    {
      "cell_type": "markdown",
      "source": [
        "# Compare The Performance Of Bert And Robert"
      ],
      "metadata": {
        "id": "Jn--UIRmRxbZ"
      }
    },
    {
      "cell_type": "code",
      "source": [
        "import pandas as pd\n",
        "csv_file = '/content/161QA.csv'\n",
        "df = pd.read_csv(csv_file)\n",
        "# print the first 10 rows:\n",
        "df.head(10)\n"
      ],
      "metadata": {
        "colab": {
          "base_uri": "https://localhost:8080/",
          "height": 363
        },
        "id": "W-nHBIVLxQD_",
        "outputId": "fbb1f39a-8868-4d1c-e367-c84a1bb13e0c"
      },
      "execution_count": null,
      "outputs": [
        {
          "output_type": "execute_result",
          "data": {
            "text/plain": [
              "                                           QUESTIONS  \\\n",
              "0        What is the largest state in India by area?   \n",
              "1              How many states are there in the USA?   \n",
              "2           Who is the Chief Minister of Tamil Nadu?   \n",
              "3                   What is the capital of New York?   \n",
              "4  Explain the role of the United Nations in inte...   \n",
              "5  Who is the author of the book \"To Kill a Mocki...   \n",
              "6         What is the tallest mountain in the world?   \n",
              "7            Describe the concept of climate change.   \n",
              "8      Who won the Nobel Prize in Physics this year?   \n",
              "9  What is the purpose of the World Health Organi...   \n",
              "\n",
              "                                       actual_Answer  \\\n",
              "0   The largest state in India by area is Rajasthan.   \n",
              "1                    There are 50 states in the USA.   \n",
              "2  The Chief Minister of Tamil Nadu, as of my kno...   \n",
              "3                 The capital of New York is Albany.   \n",
              "4  The United Nations plays a key role in interna...   \n",
              "5  The author of the book \"To Kill a Mockingbird\"...   \n",
              "6  The tallest mountain in the world is Mount Eve...   \n",
              "7  Climate change refers to long-term changes in ...   \n",
              "8  I do not have access to real-time information,...   \n",
              "9  The World Health Organization (WHO) is an agen...   \n",
              "\n",
              "                     Answer_Roberta  \\\n",
              "0                          area?The   \n",
              "1                               NaN   \n",
              "2                               NaN   \n",
              "3                               NaN   \n",
              "4                               NaN   \n",
              "5  To Kill a Mockingbird\" is Harper   \n",
              "6                               NaN   \n",
              "7                           levels,   \n",
              "8                               NaN   \n",
              "9                               NaN   \n",
              "\n",
              "                                         Answer_Bert  \n",
              "0  in india by area? the largest state in india b...  \n",
              "1                                                NaN  \n",
              "2                                                NaN  \n",
              "3                                                NaN  \n",
              "4                          security, and cooperation  \n",
              "5                                                NaN  \n",
              "6                                                NaN  \n",
              "7                                                NaN  \n",
              "8                                                NaN  \n",
              "9  the world health organization ( who ) is an ag...  "
            ],
            "text/html": [
              "\n",
              "  <div id=\"df-d75aadb6-2ef8-40ec-bb0c-ad561edbca42\" class=\"colab-df-container\">\n",
              "    <div>\n",
              "<style scoped>\n",
              "    .dataframe tbody tr th:only-of-type {\n",
              "        vertical-align: middle;\n",
              "    }\n",
              "\n",
              "    .dataframe tbody tr th {\n",
              "        vertical-align: top;\n",
              "    }\n",
              "\n",
              "    .dataframe thead th {\n",
              "        text-align: right;\n",
              "    }\n",
              "</style>\n",
              "<table border=\"1\" class=\"dataframe\">\n",
              "  <thead>\n",
              "    <tr style=\"text-align: right;\">\n",
              "      <th></th>\n",
              "      <th>QUESTIONS</th>\n",
              "      <th>actual_Answer</th>\n",
              "      <th>Answer_Roberta</th>\n",
              "      <th>Answer_Bert</th>\n",
              "    </tr>\n",
              "  </thead>\n",
              "  <tbody>\n",
              "    <tr>\n",
              "      <th>0</th>\n",
              "      <td>What is the largest state in India by area?</td>\n",
              "      <td>The largest state in India by area is Rajasthan.</td>\n",
              "      <td>area?The</td>\n",
              "      <td>in india by area? the largest state in india b...</td>\n",
              "    </tr>\n",
              "    <tr>\n",
              "      <th>1</th>\n",
              "      <td>How many states are there in the USA?</td>\n",
              "      <td>There are 50 states in the USA.</td>\n",
              "      <td>NaN</td>\n",
              "      <td>NaN</td>\n",
              "    </tr>\n",
              "    <tr>\n",
              "      <th>2</th>\n",
              "      <td>Who is the Chief Minister of Tamil Nadu?</td>\n",
              "      <td>The Chief Minister of Tamil Nadu, as of my kno...</td>\n",
              "      <td>NaN</td>\n",
              "      <td>NaN</td>\n",
              "    </tr>\n",
              "    <tr>\n",
              "      <th>3</th>\n",
              "      <td>What is the capital of New York?</td>\n",
              "      <td>The capital of New York is Albany.</td>\n",
              "      <td>NaN</td>\n",
              "      <td>NaN</td>\n",
              "    </tr>\n",
              "    <tr>\n",
              "      <th>4</th>\n",
              "      <td>Explain the role of the United Nations in inte...</td>\n",
              "      <td>The United Nations plays a key role in interna...</td>\n",
              "      <td>NaN</td>\n",
              "      <td>security, and cooperation</td>\n",
              "    </tr>\n",
              "    <tr>\n",
              "      <th>5</th>\n",
              "      <td>Who is the author of the book \"To Kill a Mocki...</td>\n",
              "      <td>The author of the book \"To Kill a Mockingbird\"...</td>\n",
              "      <td>To Kill a Mockingbird\" is Harper</td>\n",
              "      <td>NaN</td>\n",
              "    </tr>\n",
              "    <tr>\n",
              "      <th>6</th>\n",
              "      <td>What is the tallest mountain in the world?</td>\n",
              "      <td>The tallest mountain in the world is Mount Eve...</td>\n",
              "      <td>NaN</td>\n",
              "      <td>NaN</td>\n",
              "    </tr>\n",
              "    <tr>\n",
              "      <th>7</th>\n",
              "      <td>Describe the concept of climate change.</td>\n",
              "      <td>Climate change refers to long-term changes in ...</td>\n",
              "      <td>levels,</td>\n",
              "      <td>NaN</td>\n",
              "    </tr>\n",
              "    <tr>\n",
              "      <th>8</th>\n",
              "      <td>Who won the Nobel Prize in Physics this year?</td>\n",
              "      <td>I do not have access to real-time information,...</td>\n",
              "      <td>NaN</td>\n",
              "      <td>NaN</td>\n",
              "    </tr>\n",
              "    <tr>\n",
              "      <th>9</th>\n",
              "      <td>What is the purpose of the World Health Organi...</td>\n",
              "      <td>The World Health Organization (WHO) is an agen...</td>\n",
              "      <td>NaN</td>\n",
              "      <td>the world health organization ( who ) is an ag...</td>\n",
              "    </tr>\n",
              "  </tbody>\n",
              "</table>\n",
              "</div>\n",
              "    <div class=\"colab-df-buttons\">\n",
              "\n",
              "  <div class=\"colab-df-container\">\n",
              "    <button class=\"colab-df-convert\" onclick=\"convertToInteractive('df-d75aadb6-2ef8-40ec-bb0c-ad561edbca42')\"\n",
              "            title=\"Convert this dataframe to an interactive table.\"\n",
              "            style=\"display:none;\">\n",
              "\n",
              "  <svg xmlns=\"http://www.w3.org/2000/svg\" height=\"24px\" viewBox=\"0 -960 960 960\">\n",
              "    <path d=\"M120-120v-720h720v720H120Zm60-500h600v-160H180v160Zm220 220h160v-160H400v160Zm0 220h160v-160H400v160ZM180-400h160v-160H180v160Zm440 0h160v-160H620v160ZM180-180h160v-160H180v160Zm440 0h160v-160H620v160Z\"/>\n",
              "  </svg>\n",
              "    </button>\n",
              "\n",
              "  <style>\n",
              "    .colab-df-container {\n",
              "      display:flex;\n",
              "      gap: 12px;\n",
              "    }\n",
              "\n",
              "    .colab-df-convert {\n",
              "      background-color: #E8F0FE;\n",
              "      border: none;\n",
              "      border-radius: 50%;\n",
              "      cursor: pointer;\n",
              "      display: none;\n",
              "      fill: #1967D2;\n",
              "      height: 32px;\n",
              "      padding: 0 0 0 0;\n",
              "      width: 32px;\n",
              "    }\n",
              "\n",
              "    .colab-df-convert:hover {\n",
              "      background-color: #E2EBFA;\n",
              "      box-shadow: 0px 1px 2px rgba(60, 64, 67, 0.3), 0px 1px 3px 1px rgba(60, 64, 67, 0.15);\n",
              "      fill: #174EA6;\n",
              "    }\n",
              "\n",
              "    .colab-df-buttons div {\n",
              "      margin-bottom: 4px;\n",
              "    }\n",
              "\n",
              "    [theme=dark] .colab-df-convert {\n",
              "      background-color: #3B4455;\n",
              "      fill: #D2E3FC;\n",
              "    }\n",
              "\n",
              "    [theme=dark] .colab-df-convert:hover {\n",
              "      background-color: #434B5C;\n",
              "      box-shadow: 0px 1px 3px 1px rgba(0, 0, 0, 0.15);\n",
              "      filter: drop-shadow(0px 1px 2px rgba(0, 0, 0, 0.3));\n",
              "      fill: #FFFFFF;\n",
              "    }\n",
              "  </style>\n",
              "\n",
              "    <script>\n",
              "      const buttonEl =\n",
              "        document.querySelector('#df-d75aadb6-2ef8-40ec-bb0c-ad561edbca42 button.colab-df-convert');\n",
              "      buttonEl.style.display =\n",
              "        google.colab.kernel.accessAllowed ? 'block' : 'none';\n",
              "\n",
              "      async function convertToInteractive(key) {\n",
              "        const element = document.querySelector('#df-d75aadb6-2ef8-40ec-bb0c-ad561edbca42');\n",
              "        const dataTable =\n",
              "          await google.colab.kernel.invokeFunction('convertToInteractive',\n",
              "                                                    [key], {});\n",
              "        if (!dataTable) return;\n",
              "\n",
              "        const docLinkHtml = 'Like what you see? Visit the ' +\n",
              "          '<a target=\"_blank\" href=https://colab.research.google.com/notebooks/data_table.ipynb>data table notebook</a>'\n",
              "          + ' to learn more about interactive tables.';\n",
              "        element.innerHTML = '';\n",
              "        dataTable['output_type'] = 'display_data';\n",
              "        await google.colab.output.renderOutput(dataTable, element);\n",
              "        const docLink = document.createElement('div');\n",
              "        docLink.innerHTML = docLinkHtml;\n",
              "        element.appendChild(docLink);\n",
              "      }\n",
              "    </script>\n",
              "  </div>\n",
              "\n",
              "\n",
              "<div id=\"df-26b4ada4-4180-463f-8500-58144ab06d21\">\n",
              "  <button class=\"colab-df-quickchart\" onclick=\"quickchart('df-26b4ada4-4180-463f-8500-58144ab06d21')\"\n",
              "            title=\"Suggest charts.\"\n",
              "            style=\"display:none;\">\n",
              "\n",
              "<svg xmlns=\"http://www.w3.org/2000/svg\" height=\"24px\"viewBox=\"0 0 24 24\"\n",
              "     width=\"24px\">\n",
              "    <g>\n",
              "        <path d=\"M19 3H5c-1.1 0-2 .9-2 2v14c0 1.1.9 2 2 2h14c1.1 0 2-.9 2-2V5c0-1.1-.9-2-2-2zM9 17H7v-7h2v7zm4 0h-2V7h2v10zm4 0h-2v-4h2v4z\"/>\n",
              "    </g>\n",
              "</svg>\n",
              "  </button>\n",
              "\n",
              "<style>\n",
              "  .colab-df-quickchart {\n",
              "      --bg-color: #E8F0FE;\n",
              "      --fill-color: #1967D2;\n",
              "      --hover-bg-color: #E2EBFA;\n",
              "      --hover-fill-color: #174EA6;\n",
              "      --disabled-fill-color: #AAA;\n",
              "      --disabled-bg-color: #DDD;\n",
              "  }\n",
              "\n",
              "  [theme=dark] .colab-df-quickchart {\n",
              "      --bg-color: #3B4455;\n",
              "      --fill-color: #D2E3FC;\n",
              "      --hover-bg-color: #434B5C;\n",
              "      --hover-fill-color: #FFFFFF;\n",
              "      --disabled-bg-color: #3B4455;\n",
              "      --disabled-fill-color: #666;\n",
              "  }\n",
              "\n",
              "  .colab-df-quickchart {\n",
              "    background-color: var(--bg-color);\n",
              "    border: none;\n",
              "    border-radius: 50%;\n",
              "    cursor: pointer;\n",
              "    display: none;\n",
              "    fill: var(--fill-color);\n",
              "    height: 32px;\n",
              "    padding: 0;\n",
              "    width: 32px;\n",
              "  }\n",
              "\n",
              "  .colab-df-quickchart:hover {\n",
              "    background-color: var(--hover-bg-color);\n",
              "    box-shadow: 0 1px 2px rgba(60, 64, 67, 0.3), 0 1px 3px 1px rgba(60, 64, 67, 0.15);\n",
              "    fill: var(--button-hover-fill-color);\n",
              "  }\n",
              "\n",
              "  .colab-df-quickchart-complete:disabled,\n",
              "  .colab-df-quickchart-complete:disabled:hover {\n",
              "    background-color: var(--disabled-bg-color);\n",
              "    fill: var(--disabled-fill-color);\n",
              "    box-shadow: none;\n",
              "  }\n",
              "\n",
              "  .colab-df-spinner {\n",
              "    border: 2px solid var(--fill-color);\n",
              "    border-color: transparent;\n",
              "    border-bottom-color: var(--fill-color);\n",
              "    animation:\n",
              "      spin 1s steps(1) infinite;\n",
              "  }\n",
              "\n",
              "  @keyframes spin {\n",
              "    0% {\n",
              "      border-color: transparent;\n",
              "      border-bottom-color: var(--fill-color);\n",
              "      border-left-color: var(--fill-color);\n",
              "    }\n",
              "    20% {\n",
              "      border-color: transparent;\n",
              "      border-left-color: var(--fill-color);\n",
              "      border-top-color: var(--fill-color);\n",
              "    }\n",
              "    30% {\n",
              "      border-color: transparent;\n",
              "      border-left-color: var(--fill-color);\n",
              "      border-top-color: var(--fill-color);\n",
              "      border-right-color: var(--fill-color);\n",
              "    }\n",
              "    40% {\n",
              "      border-color: transparent;\n",
              "      border-right-color: var(--fill-color);\n",
              "      border-top-color: var(--fill-color);\n",
              "    }\n",
              "    60% {\n",
              "      border-color: transparent;\n",
              "      border-right-color: var(--fill-color);\n",
              "    }\n",
              "    80% {\n",
              "      border-color: transparent;\n",
              "      border-right-color: var(--fill-color);\n",
              "      border-bottom-color: var(--fill-color);\n",
              "    }\n",
              "    90% {\n",
              "      border-color: transparent;\n",
              "      border-bottom-color: var(--fill-color);\n",
              "    }\n",
              "  }\n",
              "</style>\n",
              "\n",
              "  <script>\n",
              "    async function quickchart(key) {\n",
              "      const quickchartButtonEl =\n",
              "        document.querySelector('#' + key + ' button');\n",
              "      quickchartButtonEl.disabled = true;  // To prevent multiple clicks.\n",
              "      quickchartButtonEl.classList.add('colab-df-spinner');\n",
              "      try {\n",
              "        const charts = await google.colab.kernel.invokeFunction(\n",
              "            'suggestCharts', [key], {});\n",
              "      } catch (error) {\n",
              "        console.error('Error during call to suggestCharts:', error);\n",
              "      }\n",
              "      quickchartButtonEl.classList.remove('colab-df-spinner');\n",
              "      quickchartButtonEl.classList.add('colab-df-quickchart-complete');\n",
              "    }\n",
              "    (() => {\n",
              "      let quickchartButtonEl =\n",
              "        document.querySelector('#df-26b4ada4-4180-463f-8500-58144ab06d21 button');\n",
              "      quickchartButtonEl.style.display =\n",
              "        google.colab.kernel.accessAllowed ? 'block' : 'none';\n",
              "    })();\n",
              "  </script>\n",
              "</div>\n",
              "    </div>\n",
              "  </div>\n"
            ]
          },
          "metadata": {},
          "execution_count": 8
        }
      ]
    },
    {
      "cell_type": "code",
      "source": [
        "import pandas as pd\n",
        "csv_file = '/content/161QA.csv'\n",
        "df = pd.read_csv(csv_file)\n",
        "\n",
        "def missing_Answers(df):\n",
        "  missing_roberta = df['Answer_Roberta'].isnull()\n",
        "  missing_bert = df['Answer_Bert'].isnull()\n",
        "  missing_rows = df[missing_roberta & missing_bert]\n",
        "  missing_roberta_count = missing_roberta.sum()\n",
        "  missing_bert_count = missing_bert.sum()\n",
        "\n",
        "  print(\"Missing values in Answer_Roberta:\", missing_roberta_count)\n",
        "  print(\"Missing values in Answer_Bert:\", missing_bert_count)\n",
        "\n",
        "missing_Answers(df)\n"
      ],
      "metadata": {
        "colab": {
          "base_uri": "https://localhost:8080/"
        },
        "id": "nclUN6RvxQJP",
        "outputId": "1dc90149-2d37-4506-ba27-0c26e27ea4d0"
      },
      "execution_count": null,
      "outputs": [
        {
          "output_type": "stream",
          "name": "stdout",
          "text": [
            "Missing values in Answer_Roberta: 107\n",
            "Missing values in Answer_Bert: 98\n"
          ]
        }
      ]
    },
    {
      "cell_type": "code",
      "source": [
        "def count_empty_ans_and_print(df):\n",
        "  # Count the total missing values in Answer_Roberta and Answer_Bert\n",
        "  total_missing_roberta = df['Answer_Roberta'].isnull().sum()\n",
        "  total_missing_bert = df['Answer_Bert'].isnull().sum()\n",
        "\n",
        "  # Filter rows where \"Answer_Roberta\" is null\n",
        "  missing_roberta = df[df['Answer_Roberta'].isnull()]\n",
        "\n",
        "  # Filter rows where \"Answer_Bert\" is null\n",
        "  missing_bert = df[df['Answer_Bert'].isnull()]\n",
        "\n",
        "  # Display total missing values of Answer_Roberta and questions with missing values\n",
        "  print(f\"Total missing values of Answer_Roberta: {total_missing_roberta}\")\n",
        "  print(\"\\nQuestions with missing values in Answer_Roberta:\")\n",
        "  print(\"----------------------------------------------\")\n",
        "  for index, row in missing_roberta.iterrows():\n",
        "      print(f\"{index} {row['QUESTIONS']}\")\n",
        "\n",
        "  # Display total missing values of Answer_Bert and questions with missing values\n",
        "  print(f\"\\nTotal missing values of Answer_Bert: {total_missing_bert}\")\n",
        "  print(\"\\nQuestions with missing values in Answer_Bert:\")\n",
        "  print(\"---------------------------------------------\")\n",
        "  for index, row in missing_bert.iterrows():\n",
        "      print(f\"{index} {row['QUESTIONS']}\")\n",
        "\n",
        "count_empty_ans_and_print(df)"
      ],
      "metadata": {
        "colab": {
          "base_uri": "https://localhost:8080/"
        },
        "id": "Ac3VntTBxQN6",
        "outputId": "ee635904-907a-4839-89ac-15fd2a88c11f"
      },
      "execution_count": null,
      "outputs": [
        {
          "output_type": "stream",
          "name": "stdout",
          "text": [
            "Total missing values of Answer_Roberta: 107\n",
            "\n",
            "Questions with missing values in Answer_Roberta:\n",
            "----------------------------------------------\n",
            "1 How many states are there in the USA?\n",
            "2 Who is the Chief Minister of Tamil Nadu?\n",
            "3 What is the capital of New York?\n",
            "4 Explain the role of the United Nations in international diplomacy.\n",
            "6 What is the tallest mountain in the world?\n",
            "8 Who won the Nobel Prize in Physics this year?\n",
            "9 What is the purpose of the World Health Organization (WHO)?\n",
            "10 What is the primary language spoken in Brazil?\n",
            "13 Describe the major environmental challenges facing the Amazon rainforest.\n",
            "14 What is the significance of the Great Wall of China?\n",
            "15 Who is the CEO of Amazon?\n",
            "16 What is the composition of Earth's atmosphere?\n",
            "17 Explain the principles of supply and demand in economics.\n",
            "20 Describe the cultural significance of the Taj Mahal.\n",
            "22 What is the process of cellular respiration?\n",
            "23 Who is the Chancellor of Germany?\n",
            "25 What are the major industries in Silicon Valley?\n",
            "27 Describe the major causes of air pollution.\n",
            "28 What is the main export of Australia?\n",
            "30 What are the key features of a democratic system of government?\n",
            "31 Describe the impact of social media on society.\n",
            "32 Who is the lead singer of the band \"The Beatles\"?\n",
            "33 What is the primary source of energy for Earth?\n",
            "37 Describe the structure of the human brain.\n",
            "38 What is the purpose of the United Nations Security Council?\n",
            "39 Who won the Nobel Prize in Literature last year?\n",
            "41 Who is the current Chief Minister of Maharashtra?\n",
            "42 Describe the major causes of deforestation.\n",
            "45 Who is the founder of Microsoft Corporation?\n",
            "46 What is the primary currency of Russia?\n",
            "48 What is the impact of globalization on world economies?\n",
            "49 Who is the current Prime Minister of India?\n",
            "51 When was the Indian Constitution adopted?\n",
            "52 What is the role of the President of India?\n",
            "53 Who is the Chief Justice of India?\n",
            "54 What is the significance of the Indian Parliament?\n",
            "55 What are the major political parties in India?\n",
            "57 Who is the founder of the Indian National Congress?\n",
            "58 What is the role of the Election Commission of India?\n",
            "59 What are the key political issues in India today?\n",
            "60 What is the significance of the Indian Supreme Court?\n",
            "62 Explain the concept of \"Make in India.\"\n",
            "63 What is the status of relations with neighboring countries?\n",
            "64 Who is the current President of the United States?\n",
            "67 What is the role of the U.S. Congress?\n",
            "69 What is the significance of the U.S. Supreme Court?\n",
            "70 What are the major political parties in the United States?\n",
            "71 Explain the concept of the \"Electoral College.\"\n",
            "72 What are the key political issues in the United States today?\n",
            "73 Who are some prominent U.S. Senators?\n",
            "74 What is the First Amendment to the U.S. Constitution?\n",
            "75 How does the U.S. healthcare system work?\n",
            "76 What are the major U.S. foreign policy initiatives?\n",
            "78 Who was the first woman to run for U.S. President?\n",
            "79 Who is the captain of the Indian cricket team?\n",
            "80 What are the major sports leagues in India?\n",
            "82 What is the Indian Premier League (IPL)?\n",
            "83 Explain the significance of cricket in India.\n",
            "84 Who are some famous Indian athletes in other sports?\n",
            "85 What are India's achievements in the Commonwealth Games?\n",
            "87 Describe the rules of kabaddi.\n",
            "89 Who are the top Indian chess players?\n",
            "91 What are the major sports leagues in the United States?\n",
            "93 Who are some legendary NBA basketball players?\n",
            "94 Describe the World Series (MLB).\n",
            "96 Who are some prominent U.S. tennis players?\n",
            "97 What is the role of Title IX in U.S. sports?\n",
            "98 Who are the most successful Olympians from the United States?\n",
            "99 What are the top universities in India for engineering?\n",
            "100 How does the Indian education system work?\n",
            "101 What are the most popular courses for students in the USA?\n",
            "102 How can I prepare for competitive exams in India?\n",
            "103 What are the top U.S. universities for business studies?\n",
            "105 How does the application process for U.S. colleges work?\n",
            "106 What are the major challenges in Indian education today?\n",
            "107 What are the top career options for students in the USA?\n",
            "108 How can I improve my study habits and time management?\n",
            "111 How many states are there in the USA?\n",
            "112 Who is the Chief Minister of Tamil Nadu?\n",
            "113 What is the capital of New York?\n",
            "114 Explain the role of the United Nations in international diplomacy.\n",
            "116 What is the tallest mountain in the world?\n",
            "117 Describe the concept of climate change.\n",
            "119 What is the purpose of the World Health Organization (WHO)?\n",
            "120 What is the primary language spoken in Brazil?\n",
            "121 Explain the process of photosynthesis.\n",
            "123 Describe the major environmental challenges facing the Amazon rainforest.\n",
            "124 What is the significance of the Great Wall of China?\n",
            "125 Who is the CEO of Amazon?\n",
            "127 Explain the principles of supply and demand in economics.\n",
            "130 Describe the cultural significance of the Taj Mahal.\n",
            "132 What is the process of cellular respiration?\n",
            "134 Explain the concept of renewable energy sources.\n",
            "137 Describe the major causes of air pollution.\n",
            "138 What is the main export of Australia?\n",
            "140 What are the key features of a democratic system of government?\n",
            "141 Describe the impact of social media on society.\n",
            "142 Who is the lead singer of the band \"The Beatles\"?\n",
            "147 Describe the structure of the human brain.\n",
            "148 What is the purpose of the United Nations Security Council?\n",
            "149 Who won the Nobel Prize in Literature last year?\n",
            "151 Who is the current Chief Minister of Maharashtra?\n",
            "152 Describe the major causes of deforestation.\n",
            "153 What is the tallest building in the world?\n",
            "154 Explain the process of genetic inheritance.\n",
            "155 Who is the founder of Microsoft Corporation?\n",
            "159 Describe the major events of the French Revolution.\n",
            "\n",
            "Total missing values of Answer_Bert: 98\n",
            "\n",
            "Questions with missing values in Answer_Bert:\n",
            "---------------------------------------------\n",
            "1 How many states are there in the USA?\n",
            "2 Who is the Chief Minister of Tamil Nadu?\n",
            "3 What is the capital of New York?\n",
            "5 Who is the author of the book \"To Kill a Mockingbird\"?\n",
            "6 What is the tallest mountain in the world?\n",
            "7 Describe the concept of climate change.\n",
            "8 Who won the Nobel Prize in Physics this year?\n",
            "10 What is the primary language spoken in Brazil?\n",
            "11 Explain the process of photosynthesis.\n",
            "12 Who is the current Secretary-General of the United Nations?\n",
            "13 Describe the major environmental challenges facing the Amazon rainforest.\n",
            "14 What is the significance of the Great Wall of China?\n",
            "15 Who is the CEO of Amazon?\n",
            "19 Who is the current Chief Justice of the U.S. Supreme Court?\n",
            "20 Describe the cultural significance of the Taj Mahal.\n",
            "21 Who is the lead actor in the movie \"The Shawshank Redemption\"?\n",
            "23 Who is the Chancellor of Germany?\n",
            "25 What are the major industries in Silicon Valley?\n",
            "26 Who is the current Prime Minister of Japan?\n",
            "27 Describe the major causes of air pollution.\n",
            "30 What are the key features of a democratic system of government?\n",
            "31 Describe the impact of social media on society.\n",
            "32 Who is the lead singer of the band \"The Beatles\"?\n",
            "33 What is the primary source of energy for Earth?\n",
            "34 Explain the significance of the Mona Lisa painting.\n",
            "35 Who is the author of the Harry Potter book series?\n",
            "36 What is the meaning of the Hubble Space Telescope?\n",
            "37 Describe the structure of the human brain.\n",
            "38 What is the purpose of the United Nations Security Council?\n",
            "40 What is the role of the International Monetary Fund (IMF)?\n",
            "41 Who is the current Chief Minister of Maharashtra?\n",
            "43 What is the tallest building in the world?\n",
            "44 Explain the process of genetic inheritance.\n",
            "45 Who is the founder of Microsoft Corporation?\n",
            "46 What is the primary currency of Russia?\n",
            "48 What is the impact of globalization on world economies?\n",
            "53 Who is the Chief Justice of India?\n",
            "56 How does the Indian election system work?\n",
            "57 Who is the founder of the Indian National Congress?\n",
            "58 What is the role of the Election Commission of India?\n",
            "59 What are the key political issues in India today?\n",
            "62 Explain the concept of \"Make in India.\"\n",
            "68 Who is the Speaker of the House of Representatives?\n",
            "70 What are the major political parties in the United States?\n",
            "71 Explain the concept of the \"Electoral College.\"\n",
            "72 What are the key political issues in the United States today?\n",
            "73 Who are some prominent U.S. Senators?\n",
            "74 What is the First Amendment to the U.S. Constitution?\n",
            "75 How does the U.S. healthcare system work?\n",
            "77 What is the role of the Federal Reserve?\n",
            "78 Who was the first woman to run for U.S. President?\n",
            "79 Who is the captain of the Indian cricket team?\n",
            "80 What are the major sports leagues in India?\n",
            "82 What is the Indian Premier League (IPL)?\n",
            "84 Who are some famous Indian athletes in other sports?\n",
            "86 What is the National Sports Day in India?\n",
            "87 Describe the rules of kabaddi.\n",
            "89 Who are the top Indian chess players?\n",
            "93 Who are some legendary NBA basketball players?\n",
            "97 What is the role of Title IX in U.S. sports?\n",
            "98 Who are the most successful Olympians from the United States?\n",
            "99 What are the top universities in India for engineering?\n",
            "100 How does the Indian education system work?\n",
            "102 How can I prepare for competitive exams in India?\n",
            "105 How does the application process for U.S. colleges work?\n",
            "108 How can I improve my study habits and time management?\n",
            "109 Who is the author of the book \"To Kill a Mockingbird\"?\n",
            "111 How many states are there in the USA?\n",
            "112 Who is the Chief Minister of Tamil Nadu?\n",
            "113 What is the capital of New York?\n",
            "114 Explain the role of the United Nations in international diplomacy.\n",
            "115 Who is the author of the book \"To Kill a Mockingbird\"?\n",
            "116 What is the tallest mountain in the world?\n",
            "118 Who won the Nobel Prize in Physics this year?\n",
            "119 What is the purpose of the World Health Organization (WHO)?\n",
            "120 What is the primary language spoken in Brazil?\n",
            "122 Who is the current Secretary-General of the United Nations?\n",
            "123 Describe the major environmental challenges facing the Amazon rainforest.\n",
            "125 Who is the CEO of Amazon?\n",
            "128 What is the purpose of the European Union (EU)?\n",
            "131 Who is the lead actor in the movie \"The Shawshank Redemption\"?\n",
            "133 Who is the Chancellor of Germany?\n",
            "135 What are the major industries in Silicon Valley?\n",
            "140 What are the key features of a democratic system of government?\n",
            "142 Who is the lead singer of the band \"The Beatles\"?\n",
            "143 What is the primary source of energy for Earth?\n",
            "144 Explain the significance of the Mona Lisa painting.\n",
            "145 Who is the author of the Harry Potter book series?\n",
            "146 What is the meaning of the Hubble Space Telescope?\n",
            "148 What is the purpose of the United Nations Security Council?\n",
            "149 Who won the Nobel Prize in Literature last year?\n",
            "150 What is the role of the International Monetary Fund (IMF)?\n",
            "151 Who is the current Chief Minister of Maharashtra?\n",
            "153 What is the tallest building in the world?\n",
            "154 Explain the process of genetic inheritance.\n",
            "155 Who is the founder of Microsoft Corporation?\n",
            "156 What is the primary currency of Russia?\n",
            "159 Describe the major events of the French Revolution.\n"
          ]
        }
      ]
    },
    {
      "cell_type": "code",
      "source": [
        "import matplotlib.pyplot as plt\n",
        "\n",
        "# Data\n",
        "columns = [\"Answer_Roberta\", \"Answer_Bert\"]\n",
        "missing_values = [16, 20]\n",
        "\n",
        "# Create a bar chart\n",
        "plt.bar(columns, missing_values, color='skyblue')\n",
        "\n",
        "# Add labels and a title\n",
        "plt.xlabel('Columns')\n",
        "plt.ylabel('Number of Missing Values')\n",
        "plt.title('Missing Values in Answer_Roberta and Answer_Bert')\n",
        "\n",
        "# Show the plot\n",
        "plt.show()\n"
      ],
      "metadata": {
        "colab": {
          "base_uri": "https://localhost:8080/",
          "height": 472
        },
        "id": "_OJpAJSdxQaS",
        "outputId": "c60b14d3-6898-42ea-90a8-f58fc52c1155"
      },
      "execution_count": null,
      "outputs": [
        {
          "output_type": "display_data",
          "data": {
            "text/plain": [
              "<Figure size 640x480 with 1 Axes>"
            ],
            "image/png": "[encoded data removed]"
          },
          "metadata": {}
        }
      ]
    },
    {
      "cell_type": "code",
      "source": [
        "from sklearn.feature_extraction.text import CountVectorizer\n",
        "from sklearn.metrics.pairwise import cosine_similarity\n",
        "\n",
        "average_cosine_similarity = []\n",
        "def calculate_cosine_similarity(df):\n",
        "  # Combine the text data from \"actual_Answer,\" \"Answer_Roberta,\" and \"Answer_Bert\" into a single Series\n",
        "  text_data = (df['actual_Answer'].fillna('') + ' ' + df['Answer_Roberta'].fillna('') + ' ' + df['Answer_Bert'].fillna(''))\n",
        "\n",
        "  # Initialize a CountVectorizer\n",
        "  vectorizer = CountVectorizer()\n",
        "  tfidf_matrix = vectorizer.fit_transform(text_data)\n",
        "\n",
        "  # Calculate cosine similarity between all pairs of rows\n",
        "  cosine_similarities = cosine_similarity(tfidf_matrix, tfidf_matrix)\n",
        "\n",
        "  # Create new columns for cosine similarities in the DataFrame\n",
        "  df['Cosine_Similarity_Roberta'] = cosine_similarities[:, 0]\n",
        "  df['Cosine_Similarity_Bert'] = cosine_similarities[:, 2]\n",
        "\n",
        "  # Calculate the average cosine similarity\n",
        "  average_similarity_roberta = df['Cosine_Similarity_Roberta'].mean()\n",
        "  average_similarity_bert = df['Cosine_Similarity_Bert'].mean()\n",
        "\n",
        "  # Print the average similarity\n",
        "  print(\"Average Cosine Similarity between 'actual_Answer' and 'Answer_Roberta':\", average_similarity_roberta)\n",
        "  print(\"Average Cosine Similarity between 'actual_Answer' and 'Answer_Bert':\", average_similarity_bert)\n",
        "  average_cosine_similarity.append(average_similarity_roberta)\n",
        "  average_cosine_similarity.append(average_similarity_bert)\n",
        "\n",
        "calculate_cosine_similarity(df)\n"
      ],
      "metadata": {
        "colab": {
          "base_uri": "https://localhost:8080/"
        },
        "id": "CCqv6z0GxQeT",
        "outputId": "6f7cdd38-7424-4ce2-fe82-5d1cff494a3a"
      },
      "execution_count": null,
      "outputs": [
        {
          "output_type": "stream",
          "name": "stdout",
          "text": [
            "Average Cosine Similarity between 'actual_Answer' and 'Answer_Roberta': 0.2146884316342971\n",
            "Average Cosine Similarity between 'actual_Answer' and 'Answer_Bert': 0.23352242887220953\n"
          ]
        }
      ]
    },
    {
      "cell_type": "code",
      "source": [
        "df.describe()"
      ],
      "metadata": {
        "colab": {
          "base_uri": "https://localhost:8080/",
          "height": 301
        },
        "id": "_4LziWSDxQhl",
        "outputId": "f13a85c7-b9f5-4251-c002-62bad5af6514"
      },
      "execution_count": null,
      "outputs": [
        {
          "output_type": "execute_result",
          "data": {
            "text/plain": [
              "       Cosine_Similarity_Roberta  Cosine_Similarity_Bert\n",
              "count                 160.000000              160.000000\n",
              "mean                    0.214688                0.233522\n",
              "std                     0.138731                0.158209\n",
              "min                     0.000000                0.000000\n",
              "25%                     0.122107                0.116028\n",
              "50%                     0.203149                0.217052\n",
              "75%                     0.277218                0.302166\n",
              "max                     1.000000                1.000000"
            ],
            "text/html": [
              "\n",
              "  <div id=\"df-e5b62d7d-fb5f-4fa9-a860-16ddcc2c9523\" class=\"colab-df-container\">\n",
              "    <div>\n",
              "<style scoped>\n",
              "    .dataframe tbody tr th:only-of-type {\n",
              "        vertical-align: middle;\n",
              "    }\n",
              "\n",
              "    .dataframe tbody tr th {\n",
              "        vertical-align: top;\n",
              "    }\n",
              "\n",
              "    .dataframe thead th {\n",
              "        text-align: right;\n",
              "    }\n",
              "</style>\n",
              "<table border=\"1\" class=\"dataframe\">\n",
              "  <thead>\n",
              "    <tr style=\"text-align: right;\">\n",
              "      <th></th>\n",
              "      <th>Cosine_Similarity_Roberta</th>\n",
              "      <th>Cosine_Similarity_Bert</th>\n",
              "    </tr>\n",
              "  </thead>\n",
              "  <tbody>\n",
              "    <tr>\n",
              "      <th>count</th>\n",
              "      <td>160.000000</td>\n",
              "      <td>160.000000</td>\n",
              "    </tr>\n",
              "    <tr>\n",
              "      <th>mean</th>\n",
              "      <td>0.214688</td>\n",
              "      <td>0.233522</td>\n",
              "    </tr>\n",
              "    <tr>\n",
              "      <th>std</th>\n",
              "      <td>0.138731</td>\n",
              "      <td>0.158209</td>\n",
              "    </tr>\n",
              "    <tr>\n",
              "      <th>min</th>\n",
              "      <td>0.000000</td>\n",
              "      <td>0.000000</td>\n",
              "    </tr>\n",
              "    <tr>\n",
              "      <th>25%</th>\n",
              "      <td>0.122107</td>\n",
              "      <td>0.116028</td>\n",
              "    </tr>\n",
              "    <tr>\n",
              "      <th>50%</th>\n",
              "      <td>0.203149</td>\n",
              "      <td>0.217052</td>\n",
              "    </tr>\n",
              "    <tr>\n",
              "      <th>75%</th>\n",
              "      <td>0.277218</td>\n",
              "      <td>0.302166</td>\n",
              "    </tr>\n",
              "    <tr>\n",
              "      <th>max</th>\n",
              "      <td>1.000000</td>\n",
              "      <td>1.000000</td>\n",
              "    </tr>\n",
              "  </tbody>\n",
              "</table>\n",
              "</div>\n",
              "    <div class=\"colab-df-buttons\">\n",
              "\n",
              "  <div class=\"colab-df-container\">\n",
              "    <button class=\"colab-df-convert\" onclick=\"convertToInteractive('df-e5b62d7d-fb5f-4fa9-a860-16ddcc2c9523')\"\n",
              "            title=\"Convert this dataframe to an interactive table.\"\n",
              "            style=\"display:none;\">\n",
              "\n",
              "  <svg xmlns=\"http://www.w3.org/2000/svg\" height=\"24px\" viewBox=\"0 -960 960 960\">\n",
              "    <path d=\"M120-120v-720h720v720H120Zm60-500h600v-160H180v160Zm220 220h160v-160H400v160Zm0 220h160v-160H400v160ZM180-400h160v-160H180v160Zm440 0h160v-160H620v160ZM180-180h160v-160H180v160Zm440 0h160v-160H620v160Z\"/>\n",
              "  </svg>\n",
              "    </button>\n",
              "\n",
              "  <style>\n",
              "    .colab-df-container {\n",
              "      display:flex;\n",
              "      gap: 12px;\n",
              "    }\n",
              "\n",
              "    .colab-df-convert {\n",
              "      background-color: #E8F0FE;\n",
              "      border: none;\n",
              "      border-radius: 50%;\n",
              "      cursor: pointer;\n",
              "      display: none;\n",
              "      fill: #1967D2;\n",
              "      height: 32px;\n",
              "      padding: 0 0 0 0;\n",
              "      width: 32px;\n",
              "    }\n",
              "\n",
              "    .colab-df-convert:hover {\n",
              "      background-color: #E2EBFA;\n",
              "      box-shadow: 0px 1px 2px rgba(60, 64, 67, 0.3), 0px 1px 3px 1px rgba(60, 64, 67, 0.15);\n",
              "      fill: #174EA6;\n",
              "    }\n",
              "\n",
              "    .colab-df-buttons div {\n",
              "      margin-bottom: 4px;\n",
              "    }\n",
              "\n",
              "    [theme=dark] .colab-df-convert {\n",
              "      background-color: #3B4455;\n",
              "      fill: #D2E3FC;\n",
              "    }\n",
              "\n",
              "    [theme=dark] .colab-df-convert:hover {\n",
              "      background-color: #434B5C;\n",
              "      box-shadow: 0px 1px 3px 1px rgba(0, 0, 0, 0.15);\n",
              "      filter: drop-shadow(0px 1px 2px rgba(0, 0, 0, 0.3));\n",
              "      fill: #FFFFFF;\n",
              "    }\n",
              "  </style>\n",
              "\n",
              "    <script>\n",
              "      const buttonEl =\n",
              "        document.querySelector('#df-e5b62d7d-fb5f-4fa9-a860-16ddcc2c9523 button.colab-df-convert');\n",
              "      buttonEl.style.display =\n",
              "        google.colab.kernel.accessAllowed ? 'block' : 'none';\n",
              "\n",
              "      async function convertToInteractive(key) {\n",
              "        const element = document.querySelector('#df-e5b62d7d-fb5f-4fa9-a860-16ddcc2c9523');\n",
              "        const dataTable =\n",
              "          await google.colab.kernel.invokeFunction('convertToInteractive',\n",
              "                                                    [key], {});\n",
              "        if (!dataTable) return;\n",
              "\n",
              "        const docLinkHtml = 'Like what you see? Visit the ' +\n",
              "          '<a target=\"_blank\" href=https://colab.research.google.com/notebooks/data_table.ipynb>data table notebook</a>'\n",
              "          + ' to learn more about interactive tables.';\n",
              "        element.innerHTML = '';\n",
              "        dataTable['output_type'] = 'display_data';\n",
              "        await google.colab.output.renderOutput(dataTable, element);\n",
              "        const docLink = document.createElement('div');\n",
              "        docLink.innerHTML = docLinkHtml;\n",
              "        element.appendChild(docLink);\n",
              "      }\n",
              "    </script>\n",
              "  </div>\n",
              "\n",
              "\n",
              "<div id=\"df-e4361c48-6263-4fcd-8928-6a4925ad874c\">\n",
              "  <button class=\"colab-df-quickchart\" onclick=\"quickchart('df-e4361c48-6263-4fcd-8928-6a4925ad874c')\"\n",
              "            title=\"Suggest charts.\"\n",
              "            style=\"display:none;\">\n",
              "\n",
              "<svg xmlns=\"http://www.w3.org/2000/svg\" height=\"24px\"viewBox=\"0 0 24 24\"\n",
              "     width=\"24px\">\n",
              "    <g>\n",
              "        <path d=\"M19 3H5c-1.1 0-2 .9-2 2v14c0 1.1.9 2 2 2h14c1.1 0 2-.9 2-2V5c0-1.1-.9-2-2-2zM9 17H7v-7h2v7zm4 0h-2V7h2v10zm4 0h-2v-4h2v4z\"/>\n",
              "    </g>\n",
              "</svg>\n",
              "  </button>\n",
              "\n",
              "<style>\n",
              "  .colab-df-quickchart {\n",
              "      --bg-color: #E8F0FE;\n",
              "      --fill-color: #1967D2;\n",
              "      --hover-bg-color: #E2EBFA;\n",
              "      --hover-fill-color: #174EA6;\n",
              "      --disabled-fill-color: #AAA;\n",
              "      --disabled-bg-color: #DDD;\n",
              "  }\n",
              "\n",
              "  [theme=dark] .colab-df-quickchart {\n",
              "      --bg-color: #3B4455;\n",
              "      --fill-color: #D2E3FC;\n",
              "      --hover-bg-color: #434B5C;\n",
              "      --hover-fill-color: #FFFFFF;\n",
              "      --disabled-bg-color: #3B4455;\n",
              "      --disabled-fill-color: #666;\n",
              "  }\n",
              "\n",
              "  .colab-df-quickchart {\n",
              "    background-color: var(--bg-color);\n",
              "    border: none;\n",
              "    border-radius: 50%;\n",
              "    cursor: pointer;\n",
              "    display: none;\n",
              "    fill: var(--fill-color);\n",
              "    height: 32px;\n",
              "    padding: 0;\n",
              "    width: 32px;\n",
              "  }\n",
              "\n",
              "  .colab-df-quickchart:hover {\n",
              "    background-color: var(--hover-bg-color);\n",
              "    box-shadow: 0 1px 2px rgba(60, 64, 67, 0.3), 0 1px 3px 1px rgba(60, 64, 67, 0.15);\n",
              "    fill: var(--button-hover-fill-color);\n",
              "  }\n",
              "\n",
              "  .colab-df-quickchart-complete:disabled,\n",
              "  .colab-df-quickchart-complete:disabled:hover {\n",
              "    background-color: var(--disabled-bg-color);\n",
              "    fill: var(--disabled-fill-color);\n",
              "    box-shadow: none;\n",
              "  }\n",
              "\n",
              "  .colab-df-spinner {\n",
              "    border: 2px solid var(--fill-color);\n",
              "    border-color: transparent;\n",
              "    border-bottom-color: var(--fill-color);\n",
              "    animation:\n",
              "      spin 1s steps(1) infinite;\n",
              "  }\n",
              "\n",
              "  @keyframes spin {\n",
              "    0% {\n",
              "      border-color: transparent;\n",
              "      border-bottom-color: var(--fill-color);\n",
              "      border-left-color: var(--fill-color);\n",
              "    }\n",
              "    20% {\n",
              "      border-color: transparent;\n",
              "      border-left-color: var(--fill-color);\n",
              "      border-top-color: var(--fill-color);\n",
              "    }\n",
              "    30% {\n",
              "      border-color: transparent;\n",
              "      border-left-color: var(--fill-color);\n",
              "      border-top-color: var(--fill-color);\n",
              "      border-right-color: var(--fill-color);\n",
              "    }\n",
              "    40% {\n",
              "      border-color: transparent;\n",
              "      border-right-color: var(--fill-color);\n",
              "      border-top-color: var(--fill-color);\n",
              "    }\n",
              "    60% {\n",
              "      border-color: transparent;\n",
              "      border-right-color: var(--fill-color);\n",
              "    }\n",
              "    80% {\n",
              "      border-color: transparent;\n",
              "      border-right-color: var(--fill-color);\n",
              "      border-bottom-color: var(--fill-color);\n",
              "    }\n",
              "    90% {\n",
              "      border-color: transparent;\n",
              "      border-bottom-color: var(--fill-color);\n",
              "    }\n",
              "  }\n",
              "</style>\n",
              "\n",
              "  <script>\n",
              "    async function quickchart(key) {\n",
              "      const quickchartButtonEl =\n",
              "        document.querySelector('#' + key + ' button');\n",
              "      quickchartButtonEl.disabled = true;  // To prevent multiple clicks.\n",
              "      quickchartButtonEl.classList.add('colab-df-spinner');\n",
              "      try {\n",
              "        const charts = await google.colab.kernel.invokeFunction(\n",
              "            'suggestCharts', [key], {});\n",
              "      } catch (error) {\n",
              "        console.error('Error during call to suggestCharts:', error);\n",
              "      }\n",
              "      quickchartButtonEl.classList.remove('colab-df-spinner');\n",
              "      quickchartButtonEl.classList.add('colab-df-quickchart-complete');\n",
              "    }\n",
              "    (() => {\n",
              "      let quickchartButtonEl =\n",
              "        document.querySelector('#df-e4361c48-6263-4fcd-8928-6a4925ad874c button');\n",
              "      quickchartButtonEl.style.display =\n",
              "        google.colab.kernel.accessAllowed ? 'block' : 'none';\n",
              "    })();\n",
              "  </script>\n",
              "</div>\n",
              "    </div>\n",
              "  </div>\n"
            ]
          },
          "metadata": {},
          "execution_count": 14
        }
      ]
    },
    {
      "cell_type": "code",
      "source": [
        "import matplotlib.pyplot as plt\n",
        "import pandas as pd\n",
        "\n",
        "# Create a DataFrame with the statistics\n",
        "data = df.describe().transpose()\n",
        "\n",
        "# Create a bar plot\n",
        "plt.figure(figsize=(10, 6))\n",
        "data.plot(y=['mean', 'std', 'min', '25%', '50%', '75%', 'max'], kind='bar')\n",
        "plt.title('Cosine Similarity Statistics')\n",
        "plt.ylabel('Value')\n",
        "plt.xlabel('Metric')\n",
        "plt.show()\n"
      ],
      "metadata": {
        "colab": {
          "base_uri": "https://localhost:8080/",
          "height": 656
        },
        "id": "GGrNcYi4xQlV",
        "outputId": "54e1a1a5-9acc-43df-b082-7d47d6a6d196"
      },
      "execution_count": null,
      "outputs": [
        {
          "output_type": "display_data",
          "data": {
            "text/plain": [
              "<Figure size 1000x600 with 0 Axes>"
            ]
          },
          "metadata": {}
        },
        {
          "output_type": "display_data",
          "data": {
            "text/plain": [
              "<Figure size 640x480 with 1 Axes>"
            ],
            "image/png": "[encoded data removed]"
          },
          "metadata": {}
        }
      ]
    },
    {
      "cell_type": "code",
      "source": [
        "import matplotlib.pyplot as plt\n",
        "\n",
        "def cosine_similarity_plot(average_similarity):\n",
        "  # Data\n",
        "  labels = [\"Answer_Roberta\", \"Answer_Bert\"]\n",
        "  average_similarity = [0.12710942251534912, 0.15980078408611897]\n",
        "\n",
        "  # Create a bar chart\n",
        "  plt.bar(labels, average_similarity, color='green')\n",
        "\n",
        "  # Add labels and a title\n",
        "  plt.xlabel('Columns')\n",
        "  plt.ylabel('Average Cosine Similarity')\n",
        "  plt.title('Average Cosine Similarity between actual_Answer and Model Answers')\n",
        "\n",
        "  # Show the plot\n",
        "  plt.show()\n",
        "\n",
        "\n",
        "cosine_similarity_plot(average_cosine_similarity)\n"
      ],
      "metadata": {
        "colab": {
          "base_uri": "https://localhost:8080/",
          "height": 472
        },
        "id": "EQhTkrWyxQn_",
        "outputId": "16bfddb9-eb2a-4584-daf1-0349081714c3"
      },
      "execution_count": null,
      "outputs": [
        {
          "output_type": "display_data",
          "data": {
            "text/plain": [
              "<Figure size 640x480 with 1 Axes>"
            ],
            "image/png": "[encoded data removed]"
          },
          "metadata": {}
        }
      ]
    },
    {
      "cell_type": "code",
      "source": [
        "import matplotlib.pyplot as plt\n",
        "\n",
        "\n",
        "def accuracy(df, Threshold):\n",
        "  # Assuming you have a similarity threshold\n",
        "  similarity_threshold = 0.01\n",
        "\n",
        "  # Calculate accuracy for Answer_Roberta with the similarity threshold\n",
        "  accuracy_roberta = (df['Cosine_Similarity_Roberta'] >= similarity_threshold).mean()\n",
        "\n",
        "  # Calculate accuracy for Answer_Bert with the similarity threshold\n",
        "  accuracy_bert = (df['Cosine_Similarity_Bert'] >= similarity_threshold).mean()\n",
        "\n",
        "  print(\"Accuracy for Answer_Roberta:\", accuracy_roberta)\n",
        "  print(\"Accuracy for Answer_Bert:\", accuracy_bert)\n",
        "\n",
        "\n",
        "    # Names of the models\n",
        "  models = ['Answer_Roberta', 'Answer_Bert']\n",
        "\n",
        "  # Accuracy values\n",
        "  accuracies = [accuracy_roberta, accuracy_bert]\n",
        "\n",
        "  # Create a bar chart\n",
        "  plt.bar(models, accuracies, color=['skyblue', 'lightcoral'])\n",
        "\n",
        "  # Add labels and a title\n",
        "  plt.xlabel('Models')\n",
        "  plt.ylabel('Accuracy')\n",
        "  plt.title('Accuracy Based on Similarity Threshold')\n",
        "\n",
        "  # Add accuracy values as text annotations\n",
        "  for i, acc in enumerate(accuracies):\n",
        "      plt.text(models[i], acc, f'{acc:.2f}', ha='center', va='bottom')\n",
        "\n",
        "  # Show the plot\n",
        "  plt.show()\n",
        "\n",
        "accuracy(df, 0.01)"
      ],
      "metadata": {
        "colab": {
          "base_uri": "https://localhost:8080/",
          "height": 507
        },
        "id": "CegPuojPxQrO",
        "outputId": "bfa663b5-0879-4627-fa4c-9c56aac860aa"
      },
      "execution_count": null,
      "outputs": [
        {
          "output_type": "stream",
          "name": "stdout",
          "text": [
            "Accuracy for Answer_Roberta: 0.9375\n",
            "Accuracy for Answer_Bert: 0.9625\n"
          ]
        },
        {
          "output_type": "display_data",
          "data": {
            "text/plain": [
              "<Figure size 640x480 with 1 Axes>"
            ],
            "image/png": "[encoded data removed]"
          },
          "metadata": {}
        }
      ]
    },
    {
      "cell_type": "markdown",
      "source": [
        "# FINE TUNNING ON THIS DATASET\n",
        "1.   BERT\n",
        "2.   ROBERT"
      ],
      "metadata": {
        "id": "NC3NsTvGzdnA"
      }
    },
    {
      "cell_type": "markdown",
      "source": [
        "# First WE FineTune Bert"
      ],
      "metadata": {
        "id": "klx8blPTRR7f"
      }
    },
    {
      "cell_type": "code",
      "execution_count": null,
      "metadata": {
        "id": "FT0wNoA9gqaU"
      },
      "outputs": [],
      "source": [
        "%%capture\n",
        "!pip install transformers\n",
        "!pip install torch"
      ]
    },
    {
      "cell_type": "code",
      "execution_count": null,
      "metadata": {
        "id": "VaVwhpquhj8k"
      },
      "outputs": [],
      "source": [
        "questions = [\n",
        "    \"Who won the Nobel Prize in Physics this year?\",\n",
        "    \"Explain the process of photosynthesis.\",\n",
        "    \"Who is the current Secretary-General of the United Nations?\",\n",
        "    \"Explain the principles of supply and demand in economics.\",\n",
        "    \"Who is the current Chief Justice of the U.S. Supreme Court?\",\n",
        "    \"What is the process of cellular respiration?\",\n",
        "    \"Explain the concept of renewable energy sources.\",\n",
        "    \"Describe the structure of the human brain.\",\n",
        "    \"Who won the Nobel Prize in Literature last year?\",\n",
        "    \"Explain the process of genetic inheritance.\",\n",
        "    \"Who was the first woman Prime Minister of India?\",\n",
        "    \"Explain the concept of 'Make in India.'\",\n",
        "    \"What is the status of relations with neighboring countries?\",\n",
        "    \"Who is the current President of the United States?\",\n",
        "    \"What is the state of football in India?\",\n",
        "    \"Who are the current champions of the Super Bowl (NFL)?\",\n",
        "    \"What is the role of Title IX in U.S. sports?\",\n",
        "    \"What are the most popular courses for students in the USA?\",\n",
        "    \"What is the significance of standardized tests like the SAT?\",\n",
        "    \"Explain the principles of supply and demand in economics.\",\n",
        "    \"Explain the concept of renewable energy sources.\",\n",
        "    \"Who won the FIFA World Cup in 2018?\",\n",
        "    \"Describe the impact of social media on society.\",\n",
        "    \"Who won the Nobel Prize in Literature last year?\",\n",
        "    \"Explain the process of genetic inheritance.\"\n",
        "]\n",
        "\n",
        "contexts = [\n",
        "    \"The Nobel Prize in Physics is awarded annually to individuals who have made significant contributions to the field of physics. Nobel Prize 2023 in Physics awarded to Pierre Agostini, Ferenc Krausz, Anne L'Huillier for research on electrons in flashes of light.\",\n",
        "    \"Photosynthesis is a vital biological process that occurs in plants and some microorganisms. During this process, plants use sunlight, carbon dioxide, and water to produce glucose and oxygen. It is crucial for the sustenance of life on Earth.\",\n",
        "    \"The United Nations is an international organization that promotes cooperation and peace among nations. The current Secretary-General, as of my last update in September 2021, is António Guterres.\",\n",
        "    \"Supply and demand are foundational concepts in economics. They describe how the price and quantity of goods and services are determined by the balance between the availability of a product (supply) and the desire for that product (demand).\",\n",
        "    \"As of my last knowledge update, the Chief Justice of the U.S. Supreme Court is John G. Roberts Jr. However, please note that this information might change over time.\",\n",
        "    \"Cellular respiration is a complex metabolic process that occurs in cells. It involves the conversion of glucose and oxygen into energy in the form of ATP (adenosine triphosphate), along with the production of carbon dioxide and water as byproducts.\",\n",
        "    \"Renewable energy sources are sustainable sources of energy that are naturally replenished, such as sunlight, wind, and water. They are considered eco-friendly alternatives to fossil fuels.\",\n",
        "    \"The human brain is a complex organ that consists of various regions and structures, including the cerebrum, cerebellum, brain stem, and different lobes responsible for various functions such as thinking, memory, and motor control.\",\n",
        "    \"The Nobel Prize in Literature is awarded annually to an author who has made exceptional contributions to world literature. The most recent laureate as of my last update in 2021 was Abdulrazak Gurnah. However, this information may have changed.\",\n",
        "    \"Genetic inheritance is the mechanism by which traits are passed from parents to their offspring. It is governed by genes, which are segments of DNA that carry genetic information and determine an individual's characteristics.\",\n",
        "    \"Indira Gandhi was the first woman to hold the position of Prime Minister in India. She served as the Prime Minister from 1966 to 1977 and again from 1980 until her assassination in 1984.\",\n",
        "    \"\\\"Make in India\\\" is an initiative launched by the Indian government to encourage domestic manufacturing and economic growth. It aims to reduce dependence on imports and promote the production of goods within the country.\",\n",
        "    \"The status of relations with neighboring countries can vary and is subject to ongoing political developments. It is essential to provide specific information about the countries in question and the current diplomatic situation.\",\n",
        "    \"As of my last knowledge update in September 2021, the President of the United States was Joseph R. Biden Jr. However, please note that this information may have changed.\",\n",
        "    \"Football in India has been growing in popularity in recent years, with the Indian Super League (ISL) and efforts to develop the sport at the grassroots level. The sport is gaining traction, and the national team continues to participate in international competitions.\",\n",
        "    \"The Super Bowl is an annual championship game in the National Football League (NFL). The most recent Super Bowl champion, as of my last update in 2021, was the Tampa Bay Buccaneers. Please note that this information may have changed.\",\n",
        "    \"Title IX is a U.S. federal law that prohibits gender-based discrimination in education, including sports programs. It has led to increased opportunities for female athletes in schools and colleges.\",\n",
        "    \"The popularity of courses for students in the USA can vary, but STEM (Science, Technology, Engineering, and Mathematics) programs and business-related courses have traditionally been in high demand.\",\n",
        "    \"Standardized tests like the SAT are widely used for college admissions and scholarships in the United States. They aim to provide a consistent measure of a student's academic preparedness.\",\n",
        "    \"Supply and demand principles are fundamental concepts in economics that describe how the price and quantity of goods and services are determined by market forces.\",\n",
        "    \"Renewable energy sources, such as solar and wind power, are natural resources that can be harnessed to produce clean and sustainable energy.\",\n",
        "    \"The 2018 FIFA World Cup was won by the French national football team.\",\n",
        "    \"Social media has had a significant impact on society, influencing communication, information sharing, politics, and the way people connect and express themselves.\",\n",
        "    \"The Nobel Prize in Literature for the previous year was awarded to Abdulrazak Gurnah. However, the most recent laureate may have changed since then.\",\n",
        "    \"Genetic inheritance is the transmission of genetic traits from parents to offspring through the transfer of genetic information encoded in DNA.\"\n",
        "]\n",
        "\n",
        "answers = [\n",
        "    \"TPierre Agostini, Ferenc Krausz, Anne L'Huillier\",\n",
        "    \"Photosynthesis\",\n",
        "    \"Guterres\",\n",
        "    \"Supply and demand\",\n",
        "    \"John Roberts Jr.\",\n",
        "    \"Energy production\",\n",
        "    \"Clean energy sources\",\n",
        "    \"Complex\",\n",
        "    \"Gurnah\",\n",
        "    \"Trait inheritance\",\n",
        "    \"Indira Gandhi\",\n",
        "    \"Manufacturing initiative\",\n",
        "    \"Varies with politics\",\n",
        "    \"Joseph R. Biden Jr.\",\n",
        "    \"Growing\",\n",
        "    \"Tampa Bay Buccaneers\",\n",
        "    \"Gender equity\",\n",
        "    \"STEM and business\",\n",
        "    \"Academic readiness\",\n",
        "    \"Market dynamics\",\n",
        "    \"Clean energy\",\n",
        "    \"France\",\n",
        "    \"Societal influence\",\n",
        "    \"Gurnah\",\n",
        "    \"Genetic traits\"\n",
        "]\n",
        "\n",
        "encodings = bert_tokenizer(questions, contexts, truncation=True, padding=True)\n",
        "\n",
        "# Create answer start and end positions\n",
        "answer_start_positions = []\n",
        "answer_end_positions = []\n",
        "\n"
      ]
    },
    {
      "cell_type": "code",
      "execution_count": null,
      "metadata": {
        "id": "Mbe7RURZjU0w"
      },
      "outputs": [],
      "source": [
        "for answer, context in zip(answers, contexts):\n",
        "    start_pos = context.find(answer)\n",
        "    end_pos = start_pos + len(answer)\n",
        "\n",
        "    answer_start_positions.append(start_pos)\n",
        "    answer_end_positions.append(end_pos)\n",
        "\n",
        "# Add answer positions to the encodings\n",
        "encodings.update({'start_positions': answer_start_positions, 'end_positions': answer_end_positions})"
      ]
    },
    {
      "cell_type": "code",
      "execution_count": null,
      "metadata": {
        "id": "WsyOcoQ7jU4P"
      },
      "outputs": [],
      "source": [
        "from torch.utils.data import Dataset\n",
        "from torch.utils.data import Dataset, DataLoader\n",
        "# Define the dataset\n",
        "class QA_Dataset(Dataset):\n",
        "    def __init__(self, encodings):\n",
        "        self.encodings = encodings\n",
        "\n",
        "    def __getitem__(self, idx):\n",
        "        return {key: torch.tensor(val[idx]) for key, val in self.encodings.items()}\n",
        "\n",
        "    def __len__(self):\n",
        "        return len(self.encodings.input_ids)\n",
        "\n",
        "dataset = QA_Dataset(encodings)\n"
      ]
    },
    {
      "cell_type": "code",
      "execution_count": null,
      "metadata": {
        "colab": {
          "base_uri": "https://localhost:8080/"
        },
        "id": "ojSx1bLijU67",
        "outputId": "9f25156a-8c57-402e-96ba-44c2302bbf69"
      },
      "outputs": [
        {
          "output_type": "execute_result",
          "data": {
            "text/plain": [
              "BertForQuestionAnswering(\n",
              "  (bert): BertModel(\n",
              "    (embeddings): BertEmbeddings(\n",
              "      (word_embeddings): Embedding(30522, 1024, padding_idx=0)\n",
              "      (position_embeddings): Embedding(512, 1024)\n",
              "      (token_type_embeddings): Embedding(2, 1024)\n",
              "      (LayerNorm): LayerNorm((1024,), eps=1e-12, elementwise_affine=True)\n",
              "      (dropout): Dropout(p=0.1, inplace=False)\n",
              "    )\n",
              "    (encoder): BertEncoder(\n",
              "      (layer): ModuleList(\n",
              "        (0-23): 24 x BertLayer(\n",
              "          (attention): BertAttention(\n",
              "            (self): BertSelfAttention(\n",
              "              (query): Linear(in_features=1024, out_features=1024, bias=True)\n",
              "              (key): Linear(in_features=1024, out_features=1024, bias=True)\n",
              "              (value): Linear(in_features=1024, out_features=1024, bias=True)\n",
              "              (dropout): Dropout(p=0.1, inplace=False)\n",
              "            )\n",
              "            (output): BertSelfOutput(\n",
              "              (dense): Linear(in_features=1024, out_features=1024, bias=True)\n",
              "              (LayerNorm): LayerNorm((1024,), eps=1e-12, elementwise_affine=True)\n",
              "              (dropout): Dropout(p=0.1, inplace=False)\n",
              "            )\n",
              "          )\n",
              "          (intermediate): BertIntermediate(\n",
              "            (dense): Linear(in_features=1024, out_features=4096, bias=True)\n",
              "            (intermediate_act_fn): GELUActivation()\n",
              "          )\n",
              "          (output): BertOutput(\n",
              "            (dense): Linear(in_features=4096, out_features=1024, bias=True)\n",
              "            (LayerNorm): LayerNorm((1024,), eps=1e-12, elementwise_affine=True)\n",
              "            (dropout): Dropout(p=0.1, inplace=False)\n",
              "          )\n",
              "        )\n",
              "      )\n",
              "    )\n",
              "  )\n",
              "  (qa_outputs): Linear(in_features=1024, out_features=2, bias=True)\n",
              ")"
            ]
          },
          "metadata": {},
          "execution_count": 21
        }
      ],
      "source": [
        "# Define DataLoader\n",
        "dataloader = DataLoader(dataset, batch_size=8, shuffle=True)\n",
        "\n",
        "# Define optimizer\n",
        "optimizer = torch.optim.AdamW(bert_model.parameters(), lr=2e-5)\n",
        "\n",
        "# Define device (GPU or CPU)\n",
        "device = torch.device(\"cuda\" if torch.cuda.is_available() else \"cpu\")\n",
        "bert_model.to(device)\n"
      ]
    },
    {
      "cell_type": "code",
      "execution_count": null,
      "metadata": {
        "colab": {
          "base_uri": "https://localhost:8080/",
          "height": 593
        },
        "id": "u3YZrKf4jU9j",
        "outputId": "be4e1307-6288-4d61-ff1d-9cec609ffd89"
      },
      "outputs": [
        {
          "output_type": "stream",
          "name": "stdout",
          "text": [
            "Epoch 1, Loss: 15.870590686798096\n",
            "Epoch 2, Loss: 12.632951021194458\n",
            "Epoch 3, Loss: 8.402949690818787\n",
            "Epoch 4, Loss: 6.399507403373718\n",
            "Epoch 5, Loss: 5.932624578475952\n",
            "Epoch 6, Loss: 4.175876557826996\n",
            "Epoch 7, Loss: 3.9948923587799072\n"
          ]
        },
        {
          "output_type": "display_data",
          "data": {
            "text/plain": [
              "<Figure size 640x480 with 1 Axes>"
            ],
            "image/png": "[encoded data removed]"
          },
          "metadata": {}
        }
      ],
      "source": [
        "import torch\n",
        "import matplotlib.pyplot as plt\n",
        "from transformers import BertForQuestionAnswering, BertTokenizer\n",
        "from torch.utils.data import DataLoader\n",
        "\n",
        "# Define a list to store loss values for each epoch\n",
        "training_losses = []\n",
        "\n",
        "# Define the optimizer\n",
        "optimizer = torch.optim.AdamW(bert_model.parameters(), lr=2e-5)\n",
        "\n",
        "# Training loop\n",
        "device = torch.device(\"cuda\" if torch.cuda.is_available() else \"cpu\")  # Use GPU if available\n",
        "bert_model.to(device)\n",
        "\n",
        "for epoch in range(7):\n",
        "    bert_model.train()\n",
        "    total_loss = 0\n",
        "    for batch in dataloader:\n",
        "        optimizer.zero_grad()\n",
        "        input_ids = batch['input_ids'].to(device)\n",
        "        attention_mask = batch['attention_mask'].to(device)\n",
        "        start_positions = batch['start_positions'].to(device)\n",
        "        end_positions = batch['end_positions'].to(device)\n",
        "\n",
        "        outputs = bert_model(input_ids, attention_mask=attention_mask, start_positions=start_positions, end_positions=end_positions)\n",
        "        loss = outputs.loss\n",
        "        total_loss += loss.item()\n",
        "        loss.backward()\n",
        "        optimizer.step()\n",
        "\n",
        "    total_loss = total_loss if total_loss != 'nan' else training_losses[-1]\n",
        "\n",
        "    # Append the training loss for this epoch\n",
        "    training_losses.append(total_loss) if total_loss != 'nan' else training_losses.append(training_losses[-1])\n",
        "\n",
        "    print(f\"Epoch {epoch + 1}, Loss: {total_loss}\")\n",
        "\n",
        "# Create a plot of the training loss\n",
        "plt.plot(range(1, 8), training_losses, marker='o')  # Updated range to 1 to 7\n",
        "plt.xlabel('Epoch')\n",
        "plt.ylabel('Training Loss')\n",
        "plt.title('Training Loss Over Epochs')\n",
        "plt.grid(True)\n",
        "plt.show()\n"
      ]
    },
    {
      "cell_type": "code",
      "execution_count": null,
      "metadata": {
        "colab": {
          "base_uri": "https://localhost:8080/"
        },
        "id": "YGSdw_1gjVCj",
        "outputId": "6decb7ee-3664-40bd-cb82-e76b4a5a5524"
      },
      "outputs": [
        {
          "output_type": "stream",
          "name": "stdout",
          "text": [
            "Predicted Answer 1: [CLS] who was the first woman prime minister of india? [SEP] indira gandhi\n"
          ]
        }
      ],
      "source": [
        "bert_model.eval()\n",
        "\n",
        "# Define a function to predict answers\n",
        "def predict_answer(question, context):\n",
        "    inputs = bert_tokenizer(question, context, return_tensors='pt', truncation=True, padding=True)\n",
        "    input_ids = inputs['input_ids'].to(device)\n",
        "    attention_mask = inputs['attention_mask'].to(device)\n",
        "\n",
        "    # Get start and end logits\n",
        "    with torch.no_grad():\n",
        "        outputs = bert_model(input_ids, attention_mask=attention_mask)\n",
        "        start_logits = outputs.start_logits\n",
        "        end_logits = outputs.end_logits\n",
        "\n",
        "    # Find the best answer span\n",
        "    answer_start = torch.argmax(start_logits)\n",
        "    answer_end = torch.argmax(end_logits)\n",
        "\n",
        "    # Extract and decode the answer\n",
        "    answer = bert_tokenizer.convert_tokens_to_string(bert_tokenizer.convert_ids_to_tokens(input_ids[0][answer_start:answer_end+1]))\n",
        "    return answer\n",
        "\n",
        "# Example questions and contexts for prediction\n",
        "question1 = \"Who was the first woman Prime Minister of India?\"\n",
        "context1 = \"Indira Gandhi was the first woman to hold the position of Prime Minister in India. She served as the Prime Minister from 1966 to 1977 and again from 1980 until her assassination in 1984.\"\n",
        "# Make predictions\n",
        "predicted_answer1 = predict_answer(question1, context1)\n",
        "# Print the predicted answers\n",
        "print(\"Predicted Answer 1:\", predicted_answer1)"
      ]
    },
    {
      "cell_type": "code",
      "source": [
        "# Example questions and contexts for prediction\n",
        "question1 = \"Who was the first woman Prime Minister of India?\"\n",
        "context1 = \"Indira Gandhi was the first woman to hold the position of Prime Minister in India. She served as the Prime Minister from 1966 to 1977 and again from 1980 until her assassination in 1984.\"\n",
        "# Make predictions\n",
        "predicted_answer1 = predict_answer(question1, context1)\n",
        "# Print the predicted answers\n",
        "print(\"Predicted Answer 1:\", predicted_answer1)"
      ],
      "metadata": {
        "colab": {
          "base_uri": "https://localhost:8080/"
        },
        "id": "FhoqiheEP1Yc",
        "outputId": "7b0ef20a-2069-4d4c-87dc-518f8f2e659c"
      },
      "execution_count": null,
      "outputs": [
        {
          "output_type": "stream",
          "name": "stdout",
          "text": [
            "Predicted Answer 1: [CLS] who was the first woman prime minister of india? [SEP] indira gandhi\n"
          ]
        }
      ]
    },
    {
      "cell_type": "markdown",
      "metadata": {
        "id": "gOp6FEYF4Tsi"
      },
      "source": [
        "# Now FineTune Robert On This Dataset"
      ]
    },
    {
      "cell_type": "code",
      "execution_count": null,
      "metadata": {
        "id": "_i5v7yf5vWay"
      },
      "outputs": [],
      "source": [
        "questions= [\n",
        "    \"Who won the Nobel Prize in Physics this year?\",\n",
        "    \"Explain the process of photosynthesis.\",\n",
        "    \"Who is the current Secretary-General of the United Nations?\",\n",
        "    \"Explain the principles of supply and demand in economics.\",\n",
        "    \"Who is the current Chief Justice of the U.S. Supreme Court?\",\n",
        "    \"What is the process of cellular respiration?\",\n",
        "    \"Explain the concept of renewable energy sources.\",\n",
        "    \"Describe the structure of the human brain.\",\n",
        "    \"Who won the Nobel Prize in Literature last year?\",\n",
        "    \"Explain the process of genetic inheritance.\",\n",
        "    \"Who was the first woman Prime Minister of India?\",\n",
        "    \"Explain the concept of 'Make in India.'\",\n",
        "    \"What is the status of relations with neighboring countries?\",\n",
        "    \"Who is the current President of the United States?\",\n",
        "    \"What is the state of football in India?\",\n",
        "    \"Who are the current champions of the Super Bowl (NFL)?\",\n",
        "    \"What is the role of Title IX in U.S. sports?\",\n",
        "    \"What are the most popular courses for students in the USA?\",\n",
        "    \"What is the significance of standardized tests like the SAT?\",\n",
        "    \"Explain the principles of supply and demand in economics.\",\n",
        "    \"Explain the concept of renewable energy sources.\",\n",
        "    \"Who won the FIFA World Cup in 2018?\",\n",
        "    \"Describe the impact of social media on society.\",\n",
        "    \"Who won the Nobel Prize in Literature last year?\",\n",
        "    \"Explain the process of genetic inheritance.\"\n",
        "]\n",
        "\n",
        "contexts= [\n",
        "    \"The Nobel Prize in Physics is awarded annually to individuals who have made significant contributions to the field of physics. Nobel Prize 2023 in Physics awarded to Pierre Agostini, Ferenc Krausz, Anne L'Huillier for research on electrons in flashes of light.\",\n",
        "    \"Photosynthesis is a vital biological process that occurs in plants and some microorganisms. During this process, plants use sunlight, carbon dioxide, and water to produce glucose and oxygen. It is crucial for the sustenance of life on Earth.\",\n",
        "    \"The United Nations is an international organization that promotes cooperation and peace among nations. The current Secretary-General, as of my last update in September 2021, is António Guterres.\",\n",
        "    \"Supply and demand are foundational concepts in economics. They describe how the price and quantity of goods and services are determined by the balance between the availability of a product (supply) and the desire for that product (demand).\",\n",
        "    \"As of my last knowledge update, the Chief Justice of the U.S. Supreme Court is John G. Roberts Jr. However, please note that this information might change over time.\",\n",
        "    \"Cellular respiration is a complex metabolic process that occurs in cells. It involves the conversion of glucose and oxygen into energy in the form of ATP (adenosine triphosphate), along with the production of carbon dioxide and water as byproducts.\",\n",
        "    \"Renewable energy sources are sustainable sources of energy that are naturally replenished, such as sunlight, wind, and water. They are considered eco-friendly alternatives to fossil fuels.\",\n",
        "    \"The human brain is a complex organ that consists of various regions and structures, including the cerebrum, cerebellum, brain stem, and different lobes responsible for various functions such as thinking, memory, and motor control.\",\n",
        "    \"The Nobel Prize in Literature is awarded annually to an author who has made exceptional contributions to world literature. The most recent laureate as of my last update in 2021 was Abdulrazak Gurnah. However, this information may have changed.\",\n",
        "    \"Genetic inheritance is the mechanism by which traits are passed from parents to their offspring. It is governed by genes, which are segments of DNA that carry genetic information and determine an individual's characteristics.\",\n",
        "    \"Indira Gandhi was the first woman to hold the position of Prime Minister in India. She served as the Prime Minister from 1966 to 1977 and again from 1980 until her assassination in 1984.\",\n",
        "    \"\\\"Make in India\\\" is an initiative launched by the Indian government to encourage domestic manufacturing and economic growth. It aims to reduce dependence on imports and promote the production of goods within the country.\",\n",
        "    \"The status of relations with neighboring countries can vary and is subject to ongoing political developments. It is essential to provide specific information about the countries in question and the current diplomatic situation.\",\n",
        "    \"As of my last knowledge update in September 2021, the President of the United States was Joseph R. Biden Jr. However, please note that this information may have changed.\",\n",
        "    \"Football in India has been growing in popularity in recent years, with the Indian Super League (ISL) and efforts to develop the sport at the grassroots level. The sport is gaining traction, and the national team continues to participate in international competitions.\",\n",
        "    \"The Super Bowl is an annual championship game in the National Football League (NFL). The most recent Super Bowl champion, as of my last update in 2021, was the Tampa Bay Buccaneers. Please note that this information may have changed.\",\n",
        "    \"Title IX is a U.S. federal law that prohibits gender-based discrimination in education, including sports programs. It has led to increased opportunities for female athletes in schools and colleges.\",\n",
        "    \"The popularity of courses for students in the USA can vary, but STEM (Science, Technology, Engineering, and Mathematics) programs and business-related courses have traditionally been in high demand.\",\n",
        "    \"Standardized tests like the SAT are widely used for college admissions and scholarships in the United States. They aim to provide a consistent measure of a student's academic preparedness.\",\n",
        "    \"Supply and demand principles are fundamental concepts in economics that describe how the price and quantity of goods and services are determined by market forces.\",\n",
        "    \"Renewable energy sources, such as solar and wind power, are natural resources that can be harnessed to produce clean and sustainable energy.\",\n",
        "    \"The 2018 FIFA World Cup was won by the French national football team.\",\n",
        "    \"Social media has had a significant impact on society, influencing communication, information sharing, politics, and the way people connect and express themselves.\",\n",
        "    \"The Nobel Prize in Literature for the previous year was awarded to Abdulrazak Gurnah. However, the most recent laureate may have changed since then.\",\n",
        "    \"Genetic inheritance is the transmission of genetic traits from parents to offspring through the transfer of genetic information encoded in DNA.\"\n",
        "]\n",
        "\n",
        "answers = [\n",
        "    \"TPierre Agostini, Ferenc Krausz, Anne L'Huillier\",\n",
        "    \"Photosynthesis\",\n",
        "    \"Guterres\",\n",
        "    \"Supply and demand\",\n",
        "    \"John Roberts Jr.\",\n",
        "    \"Energy production\",\n",
        "    \"Clean energy sources\",\n",
        "    \"Complex\",\n",
        "    \"Gurnah\",\n",
        "    \"Trait inheritance\",\n",
        "    \"Indira Gandhi\",\n",
        "    \"Manufacturing initiative\",\n",
        "    \"Varies with politics\",\n",
        "    \"Joseph R. Biden Jr.\",\n",
        "    \"Growing\",\n",
        "    \"Tampa Bay Buccaneers\",\n",
        "    \"Gender equity\",\n",
        "    \"STEM and business\",\n",
        "    \"Academic readiness\",\n",
        "    \"Market dynamics\",\n",
        "    \"Clean energy\",\n",
        "    \"France\",\n",
        "    \"Societal influence\",\n",
        "    \"Gurnah\",\n",
        "    \"Genetic traits\"\n",
        "]"
      ]
    },
    {
      "cell_type": "code",
      "source": [
        "import torch\n",
        "import matplotlib.pyplot as plt\n",
        "import math\n",
        "from torch.utils.data import Dataset, DataLoader\n",
        "\n",
        "# Define your device (CPU or GPU)\n",
        "device = torch.device('cuda' if torch.cuda.is_available() else 'cpu')\n",
        "\n",
        "encodings = roberta_tokenizer(questions, contexts, truncation=True, padding=True)\n",
        "\n",
        "# Create answer start and end positions\n",
        "answer_start_positions = []\n",
        "answer_end_positions = []\n",
        "\n",
        "for answer, context in zip(answers, contexts):\n",
        "    start_pos = context.find(answer)\n",
        "    end_pos = start_pos + len(answer)\n",
        "\n",
        "    answer_start_positions.append(start_pos)\n",
        "    answer_end_positions.append(end_pos)\n",
        "\n",
        "# Add answer positions to the encodings\n",
        "encodings.update({'start_positions': answer_start_positions, 'end_positions': answer_end_positions})\n",
        "\n",
        "# Define the dataset\n",
        "class QA_Dataset(Dataset):\n",
        "    def __init__(self, encodings):\n",
        "        self.encodings = encodings\n",
        "\n",
        "    def __getitem__(self, idx):\n",
        "        return {key: torch.tensor(val[idx], device=device) for key, val in self.encodings.items()}\n",
        "\n",
        "    def __len__(self):\n",
        "        return len(self.encodings.input_ids)\n",
        "\n",
        "dataset = QA_Dataset(encodings)\n",
        "\n",
        "# Move your model to the same device\n",
        "roberta_model = roberta_model.to(device)\n",
        "\n",
        "# Define DataLoader\n",
        "dataloader = DataLoader(dataset, batch_size=8, shuffle=True)\n",
        "\n",
        "# Define optimizer\n",
        "optimizer = torch.optim.AdamW(roberta_model.parameters(), lr=2e-5)\n",
        "\n",
        "# Define an empty list to store loss values for each epoch\n",
        "loss_values = []\n",
        "\n",
        "# Training loop\n",
        "for epoch in range(7):\n",
        "    roberta_model.train()\n",
        "    total_loss = 0\n",
        "    for batch in dataloader:\n",
        "        optimizer.zero_grad()\n",
        "        input_ids = batch['input_ids']\n",
        "        attention_mask = batch['attention_mask']\n",
        "        start_positions = batch['start_positions']\n",
        "        end_positions = batch['end_positions']\n",
        "\n",
        "        outputs = roberta_model(input_ids, attention_mask=attention_mask, start_positions=start_positions, end_positions=end_positions)\n",
        "        loss = outputs.loss\n",
        "        total_loss += loss.item()\n",
        "        loss.backward()\n",
        "        optimizer.step()\n",
        "\n",
        "    loss_values.append(total_loss)\n",
        "    print(f\"Epoch {epoch + 1}, Loss: {total_loss}\")\n",
        "\n",
        "# Plot the loss values\n",
        "plt.plot(range(1, 8), loss_values, marker='o')\n",
        "plt.xlabel('Epoch')\n",
        "plt.ylabel('Loss')\n",
        "plt.title ('Training Loss over Epochs')\n",
        "plt.grid()\n",
        "plt.show()\n"
      ],
      "metadata": {
        "colab": {
          "base_uri": "https://localhost:8080/",
          "height": 593
        },
        "id": "392hfmVzbjv0",
        "outputId": "d65ccc76-5357-447d-deb6-685fb53282ce"
      },
      "execution_count": null,
      "outputs": [
        {
          "output_type": "stream",
          "name": "stdout",
          "text": [
            "Epoch 1, Loss: 13.743321418762207\n",
            "Epoch 2, Loss: 10.431019067764282\n",
            "Epoch 3, Loss: nan\n",
            "Epoch 4, Loss: 7.12822949886322\n",
            "Epoch 5, Loss: 6.252590000629425\n",
            "Epoch 6, Loss: 4.1456238925457\n",
            "Epoch 7, Loss: 3.453280359506607\n"
          ]
        },
        {
          "output_type": "display_data",
          "data": {
            "text/plain": [
              "<Figure size 640x480 with 1 Axes>"
            ],
            "image/png": "[encoded data removed]"
          },
          "metadata": {}
        }
      ]
    },
    {
      "cell_type": "code",
      "execution_count": null,
      "metadata": {
        "colab": {
          "base_uri": "https://localhost:8080/"
        },
        "id": "vd0W3UlSyPRc",
        "outputId": "11ff5f1d-e0c3-41b2-f297-028c0df4a0b5"
      },
      "outputs": [
        {
          "output_type": "stream",
          "name": "stdout",
          "text": [
            "roberta-large\n"
          ]
        }
      ],
      "source": [
        "print(roberta_model_name)"
      ]
    },
    {
      "cell_type": "code",
      "execution_count": null,
      "metadata": {
        "id": "hC2qmcFJ6YJE"
      },
      "outputs": [],
      "source": [
        "def predict_answer(question, context):\n",
        "    inputs = roberta_tokenizer(question, context, return_tensors='pt', truncation=True, padding=True)\n",
        "    input_ids = inputs['input_ids'].to(device)\n",
        "    attention_mask = inputs['attention_mask'].to(device)\n",
        "\n",
        "    # Get start and end logits\n",
        "    with torch.no_grad():\n",
        "        outputs = roberta_model(input_ids, attention_mask=attention_mask)\n",
        "        start_logits = outputs.start_logits\n",
        "        end_logits = outputs.end_logits\n",
        "\n",
        "    # Find the best answer span\n",
        "    answer_start = torch.argmax(start_logits)\n",
        "    answer_end = torch.argmax(end_logits)\n",
        "\n",
        "    # Extract and decode the answer\n",
        "    answer = roberta_tokenizer.convert_tokens_to_string(roberta_tokenizer.convert_ids_to_tokens(input_ids[0][answer_start:answer_end+1]))\n",
        "    return answer\n"
      ]
    },
    {
      "cell_type": "code",
      "execution_count": null,
      "metadata": {
        "colab": {
          "base_uri": "https://localhost:8080/"
        },
        "id": "9mBwEqIt6nul",
        "outputId": "9650be03-4e77-4d6c-a630-c54151171607"
      },
      "outputs": [
        {
          "output_type": "stream",
          "name": "stdout",
          "text": [
            "Predicted Answer: <s>Who won the FIFA World Cup in 2018?</s></s>The 2018 FIFA\n"
          ]
        }
      ],
      "source": [
        "question01 =     \"Who won the FIFA World Cup in 2018?\"\n",
        "context01 =    \"The 2018 FIFA World Cup was won by the French national football team.\"\n",
        "# Make predictions\n",
        "predicted_answer01 = predict_answer(question01, context01)\n",
        "\n",
        "# Print the predicted answers\n",
        "print(\"Predicted Answer:\", predicted_answer01)\n"
      ]
    },
    {
      "cell_type": "code",
      "source": [
        "# Example questions and contexts for prediction\n",
        "question02 = \"Who is the current Secretary-General of the United Nations?\",\n",
        "context02 =  \"The United Nations is an international organization that promotes cooperation and peace among nations. The current Secretary-General, as of my last update in September 2021, is António Guterres.\",\n",
        "\n",
        "# Make predictions\n",
        "predicted_answer02 = predict_answer(question02, context02)\n",
        "\n",
        "# Print the predicted answers\n",
        "print(\"Predicted Answer:\", predicted_answer02)\n"
      ],
      "metadata": {
        "colab": {
          "base_uri": "https://localhost:8080/"
        },
        "id": "B2pBNMI_Jawo",
        "outputId": "3ae99481-c18b-4a94-f555-ffab0866caee"
      },
      "execution_count": null,
      "outputs": [
        {
          "output_type": "stream",
          "name": "stdout",
          "text": [
            "Predicted Answer: <s>Who is the\n"
          ]
        }
      ]
    },
    {
      "cell_type": "code",
      "source": [],
      "metadata": {
        "id": "GJ9OK33Hh_96"
      },
      "execution_count": null,
      "outputs": []
    },
    {
      "cell_type": "code",
      "source": [],
      "metadata": {
        "id": "PHxYhdYdiADD"
      },
      "execution_count": null,
      "outputs": []
    },
    {
      "cell_type": "code",
      "source": [],
      "metadata": {
        "id": "6IKhQ05dio8r"
      },
      "execution_count": null,
      "outputs": []
    },
    {
      "cell_type": "markdown",
      "source": [
        "# TESTING ON QUESTIONS WE TRIED N BEFORE"
      ],
      "metadata": {
        "id": "6-ylgpKkwGAf"
      }
    },
    {
      "cell_type": "code",
      "source": [
        "import pandas as pd\n",
        "import torch\n",
        "from transformers import AutoTokenizer, AutoModelForQuestionAnswering\n"
      ],
      "metadata": {
        "id": "KHcPVz5uio4P"
      },
      "execution_count": null,
      "outputs": []
    },
    {
      "cell_type": "code",
      "source": [
        "# Load the QUESTINS/ANSWER FILE\n",
        "csv_file = '/content/befQA.csv'\n",
        "\n",
        "def generate_and_save_answers_to_csv(csv_file, output_csv_file, device):\n",
        "    # Read the CSV file into a DataFrame\n",
        "    df = pd.read_csv(csv_file)\n",
        "\n",
        "    for index, row in df.iterrows():\n",
        "        question = row['QUESTIONS']\n",
        "        actual_answer = str(row['actual_Answer'])  # Convert to string\n",
        "\n",
        "        # Generate answers using BERT\n",
        "        inputs_bert = bert_tokenizer.encode_plus(\n",
        "            question,\n",
        "            actual_answer,\n",
        "            return_tensors='pt',\n",
        "            max_length=512,\n",
        "            truncation=True,\n",
        "            padding=True,\n",
        "        ).to(device)  # Move to the specified device\n",
        "        answer_start_scores_bert, answer_end_scores_bert = bert_model(**inputs_bert).values()\n",
        "        answer_start_bert = torch.argmax(answer_start_scores_bert)\n",
        "        answer_end_bert = torch.argmax(answer_end_scores_bert) + 1\n",
        "        ans_bert = bert_tokenizer.decode(inputs_bert['input_ids'][0][answer_start_bert:answer_end_bert], skip_special_tokens=True)\n",
        "\n",
        "        # Generate answers using RoBERTa\n",
        "        inputs_roberta = roberta_tokenizer.encode_plus(\n",
        "            question,\n",
        "            actual_answer,\n",
        "            return_tensors='pt',\n",
        "            max_length=512,\n",
        "            truncation=True,\n",
        "            padding=True,\n",
        "        ).to(device)  # Move to the specified device\n",
        "        answer_start_scores_roberta, answer_end_scores_roberta = roberta_model(**inputs_roberta).values()\n",
        "        answer_start_roberta = torch.argmax(answer_start_scores_roberta)\n",
        "        answer_end_roberta = torch.argmax(answer_end_scores_roberta) + 1\n",
        "        ans_roberta = roberta_tokenizer.decode(inputs_roberta['input_ids'][0][answer_start_roberta:answer_end_roberta], skip_special_tokens=True)\n",
        "\n",
        "        # Update the DataFrame with BERT and RoBERTa answers\n",
        "        df.at[index, 'Answer_Roberta'] = ans_roberta\n",
        "        df.at[index, 'Answer_Bert'] = ans_bert\n",
        "\n",
        "    # Save the updated DataFrame to a new CSV file\n",
        "    df.to_csv(output_csv_file, index=False)\n",
        "\n",
        "if __name__ == \"__main__\":\n",
        "    output_csv_file = '/content/result_after_finetune.csv'  # Specify the output CSV file\n",
        "    generate_and_save_answers_to_csv(csv_file, output_csv_file, device)  # Pass the device as an argument\n"
      ],
      "metadata": {
        "id": "7vsW_INYimRD"
      },
      "execution_count": null,
      "outputs": []
    },
    {
      "cell_type": "markdown",
      "source": [
        "# COMPARISION AFTER FINETUNE"
      ],
      "metadata": {
        "id": "vfZMYF0wu2c0"
      }
    },
    {
      "cell_type": "code",
      "source": [
        "df = pd.read_csv('/content/result_after_finetune.csv')"
      ],
      "metadata": {
        "id": "pfwmWX3PimXb"
      },
      "execution_count": null,
      "outputs": []
    },
    {
      "cell_type": "code",
      "source": [
        "missing_Answers(df)"
      ],
      "metadata": {
        "colab": {
          "base_uri": "https://localhost:8080/"
        },
        "id": "Wvd-hNnSimcx",
        "outputId": "96b55ca4-1d5e-4988-841a-8c874e2eed6b"
      },
      "execution_count": null,
      "outputs": [
        {
          "output_type": "stream",
          "name": "stdout",
          "text": [
            "Missing values in Answer_Roberta: 3\n",
            "Missing values in Answer_Bert: 0\n"
          ]
        }
      ]
    },
    {
      "cell_type": "code",
      "source": [
        "count_empty_ans_and_print(df)"
      ],
      "metadata": {
        "colab": {
          "base_uri": "https://localhost:8080/"
        },
        "id": "MPCPosAximiD",
        "outputId": "d66e64e0-8bd0-4274-fcf1-74376d781d21"
      },
      "execution_count": null,
      "outputs": [
        {
          "output_type": "stream",
          "name": "stdout",
          "text": [
            "Total missing values of Answer_Roberta: 3\n",
            "\n",
            "Questions with missing values in Answer_Roberta:\n",
            "----------------------------------------------\n",
            "91 What are the major sports leagues in the United States?\n",
            "108 How can I improve my study habits and time management?\n",
            "153 What is the tallest building in the world?\n",
            "\n",
            "Total missing values of Answer_Bert: 0\n",
            "\n",
            "Questions with missing values in Answer_Bert:\n",
            "---------------------------------------------\n"
          ]
        }
      ]
    },
    {
      "cell_type": "code",
      "source": [
        "calculate_cosine_similarity(df)"
      ],
      "metadata": {
        "colab": {
          "base_uri": "https://localhost:8080/"
        },
        "id": "8WqYA37YuD-d",
        "outputId": "d328a131-0cba-4ca2-e0fa-fe390b2db916"
      },
      "execution_count": null,
      "outputs": [
        {
          "output_type": "stream",
          "name": "stdout",
          "text": [
            "Average Cosine Similarity between 'actual_Answer' and 'Answer_Roberta': 0.28951083015476825\n",
            "Average Cosine Similarity between 'actual_Answer' and 'Answer_Bert': 0.33379630546353967\n"
          ]
        }
      ]
    },
    {
      "cell_type": "code",
      "source": [
        "cosine_similarity_plot(df)"
      ],
      "metadata": {
        "colab": {
          "base_uri": "https://localhost:8080/",
          "height": 472
        },
        "id": "Y_yQoGnuuKYI",
        "outputId": "15d65a8f-2147-4a74-a5b7-18ef57617730"
      },
      "execution_count": null,
      "outputs": [
        {
          "output_type": "display_data",
          "data": {
            "text/plain": [
              "<Figure size 640x480 with 1 Axes>"
            ],
            "image/png": "[encoded data removed]"
          },
          "metadata": {}
        }
      ]
    },
    {
      "cell_type": "code",
      "source": [
        "accuracy(df, 0.01)"
      ],
      "metadata": {
        "colab": {
          "base_uri": "https://localhost:8080/",
          "height": 507
        },
        "id": "sV6G6B__uMG4",
        "outputId": "d3e8745b-d768-4682-8363-221ffbafcfa5"
      },
      "execution_count": null,
      "outputs": [
        {
          "output_type": "stream",
          "name": "stdout",
          "text": [
            "Accuracy for Answer_Roberta: 0.975\n",
            "Accuracy for Answer_Bert: 0.99375\n"
          ]
        },
        {
          "output_type": "display_data",
          "data": {
            "text/plain": [
              "<Figure size 640x480 with 1 Axes>"
            ],
            "image/png": "[encoded data removed]"
          },
          "metadata": {}
        }
      ]
    },
    {
      "cell_type": "markdown",
      "source": [
        "# GUI Using Streamlit"
      ],
      "metadata": {
        "id": "_nf9NkBrQ0I8"
      }
    },
    {
      "cell_type": "code",
      "source": [
        "%%capture\n",
        "!pip install ipywidgets\n",
        "!pip install pyngrok"
      ],
      "metadata": {
        "id": "p5olh_YCQ__u"
      },
      "execution_count": null,
      "outputs": []
    },
    {
      "cell_type": "code",
      "source": [
        "\n",
        "import streamlit as st\n",
        "import wikipedia as wiki\n",
        "import torch\n",
        "from transformers import AutoTokenizer, AutoModelForQuestionAnswering\n",
        "\n",
        "# Cache the loading of models and tokenizers to speed up the process\n",
        "try:\n",
        "    # Try using the newer cache function\n",
        "    @st.cache_data\n",
        "    def load_model_and_tokenizer(model_name):\n",
        "        tokenizer = AutoTokenizer.from_pretrained(model_name)\n",
        "        model = AutoModelForQuestionAnswering.from_pretrained(model_name)\n",
        "        return tokenizer, model\n",
        "except AttributeError:\n",
        "    # Fallback to the older cache function if the newer one is not available\n",
        "    @st.cache(allow_output_mutation=True)\n",
        "    def load_model_and_tokenizer(model_name):\n",
        "        tokenizer = AutoTokenizer.from_pretrained(model_name)\n",
        "        model = AutoModelForQuestionAnswering.from_pretrained(model_name)\n",
        "        return tokenizer, model\n",
        "\n",
        "def get_relevant_content(question, results):\n",
        "    # Get the top 3 search results and extract relevant sections\n",
        "    content = \"\"\n",
        "    for result in results[:3]:\n",
        "        try:\n",
        "            page = wiki.page(result)\n",
        "            content += page.summary  # Using summary to get concise content\n",
        "        except wiki.exceptions.PageError:\n",
        "            continue  # If there's an error with this result, skip it and continue with the next one\n",
        "    return content\n",
        "\n",
        "def main():\n",
        "    st.title(\"Chat Bot App\")\n",
        "    st.image(\"/content/chatbot.png\", width=90)  # Adjust the size to be smaller\n",
        "\n",
        "    # Create a sidebar for question history\n",
        "    st.sidebar.title(\"Question History\")\n",
        "    question_history = st.sidebar.empty()\n",
        "\n",
        "    # Initialize the question history list\n",
        "    if 'question_history' not in st.session_state:\n",
        "        st.session_state.question_history = []\n",
        "\n",
        "    # Input box for user questions\n",
        "    ques = st.text_input(\"Ask your question:\")\n",
        "\n",
        "    # Style the buttons for BERT and Roberta\n",
        "    st.write(\"Choose a model:\")\n",
        "    col1, col2 = st.columns(2)\n",
        "    with col1:\n",
        "        button_bert = st.button(\"BERT\", key=\"bert_button\")\n",
        "    with col2:\n",
        "        button_roberta = st.button(\"Roberta\", key=\"roberta_button\")\n",
        "\n",
        "    # Load the selected model and tokenizer\n",
        "    if button_roberta:\n",
        "        model_name = \"roberta-large\"\n",
        "    else:\n",
        "        model_name = \"bert-large-uncased\"\n",
        "\n",
        "    tokenizer, model = load_model_and_tokenizer(model_name)\n",
        "\n",
        "    # Check if a question is asked and at least one model is selected\n",
        "    if ques and (button_bert or button_roberta):\n",
        "        st.session_state.question_history.append(ques)\n",
        "        results = wiki.search(ques)\n",
        "        text = get_relevant_content(ques, results)\n",
        "\n",
        "        inputs = tokenizer.encode_plus(ques, text, return_tensors='pt', max_length=512, truncation=True)\n",
        "        answer_start_scores, answer_end_scores = model(**inputs).values()\n",
        "\n",
        "        answer_start = torch.argmax(answer_start_scores)\n",
        "        answer_end = torch.argmax(answer_end_scores) + 1\n",
        "\n",
        "        ans = tokenizer.decode(inputs['input_ids'][0][answer_start:answer_end], skip_special_tokens=True)\n",
        "\n",
        "        st.write(f\"Question: {ques}\")\n",
        "        st.write(f\"Answer: {ans}\")\n",
        "\n",
        "    # Display question history\n",
        "    question_history.write(\"Question History:\")\n",
        "    for i, question in enumerate(st.session_state.question_history):\n",
        "        question_history.write(f\"{i + 1}. {question}\")\n",
        "\n",
        "if __name__ == \"__main__\":\n",
        "    main()\n"
      ],
      "metadata": {
        "id": "1UgrSj3WtG12"
      },
      "execution_count": null,
      "outputs": []
    },
    {
      "cell_type": "code",
      "source": [
        "!streamlit run app.py & npx localtunnel --port 8501"
      ],
      "metadata": {
        "id": "sFy9dQJqiaFQ",
        "colab": {
          "base_uri": "https://localhost:8080/"
        },
        "outputId": "7878fc9a-d386-47be-868f-ef4c6dd2cc58"
      },
      "execution_count": null,
      "outputs": [
        {
          "output_type": "stream",
          "name": "stdout",
          "text": [
            "[#######...........] / extract:localtunnel: verb lock using /root/.npm/_locks/s\u001b[0m\u001b[K\n",
            "Collecting usage statistics. To deactivate, set browser.gatherUsageStats to False.\n",
            "\u001b[0m\n",
            "\u001b[K\u001b[?25h\u001b[0m\n",
            "\u001b[34m\u001b[1m  You can now view your Streamlit app in your browser.\u001b[0m\n",
            "\u001b[0m\n",
            "\u001b[34m  Network URL: \u001b[0m\u001b[1mhttp://172.28.0.12:8501\u001b[0m\n",
            "\u001b[34m  External URL: \u001b[0m\u001b[1mhttp://34.125.9.248:8501\u001b[0m\n",
            "\u001b[0m\n",
            "npx: installed 22 in 3.055s\n",
            "\u001b[34m  Stopping...\u001b[0m\n",
            "^C\n"
          ]
        }
      ]
    },
    {
      "cell_type": "code",
      "source": [
        "%%capture\n",
        "!pip install ipywidgets\n",
        "!pip install pyngrok\n",
        "!pip install wikipedia-api\n",
        "!pip install transformers\n",
        "\n",
        "import streamlit as st\n",
        "import wikipediaapi\n",
        "import torch\n",
        "from transformers import AutoTokenizer, AutoModelForQuestionAnswering\n",
        "\n",
        "# Cache the loading of models and tokenizers to speed up the process\n",
        "@st.cache(allow_output_mutation=True)\n",
        "def load_model_and_tokenizer(model_name):\n",
        "    tokenizer = AutoTokenizer.from_pretrained(model_name)\n",
        "    model = AutoModelForQuestionAnswering.from_pretrained(model_name)\n",
        "    return tokenizer, model\n",
        "\n",
        "def get_relevant_content(question, results):\n",
        "    # Get the top 3 search results and extract relevant sections\n",
        "    content = \"\"\n",
        "    for result in results[:3]:\n",
        "        try:\n",
        "            page = wiki.page(result)\n",
        "            content += page.summary  # Using summary to get concise content\n",
        "        except wiki.exceptions.DisambiguationError:\n",
        "            continue  # If there's a disambiguation error, skip it and continue with the next one\n",
        "    return content\n",
        "\n",
        "def main():\n",
        "    st.title(\"Chat Bot App\")\n",
        "    st.image(\"chatbot.png\", width=90)  # Assuming you have an image file named chatbot.png in your app directory\n",
        "\n",
        "    # Create a sidebar for question history\n",
        "    st.sidebar.title(\"Question History\")\n",
        "    question_history = st.sidebar.empty()\n",
        "\n",
        "    # Initialize the question history list\n",
        "    if 'question_history' not in st.session_state:\n",
        "        st.session_state.question_history = []\n",
        "\n",
        "    # Input box for user questions\n",
        "    ques = st.text_input(\"Ask your question:\")\n",
        "\n",
        "    # Style the buttons for BERT and Roberta\n",
        "    st.write(\"Choose a model:\")\n",
        "    col1, col2 = st.columns(2)\n",
        "    with col1:\n",
        "        button_bert = st.button(\"BERT\", key=\"bert_button\")\n",
        "    with col2:\n",
        "        button_roberta = st.button(\"Roberta\", key=\"roberta_button\")\n",
        "\n",
        "    # Load the selected model and tokenizer\n",
        "    if button_roberta:\n",
        "        model_name = \"roberta-large\"\n",
        "    else:\n",
        "        model_name = \"bert-large-uncased\"\n",
        "\n",
        "    tokenizer, model = load_model_and_tokenizer(model_name)\n",
        "\n",
        "    # Check if a question is asked and at least one model is selected\n",
        "    if ques and (button_bert or button_roberta):\n",
        "        st.session_state.question_history.append(ques)\n",
        "        wiki_wiki = wikipediaapi.Wikipedia('en')\n",
        "        page = wiki_wiki.page(ques)\n",
        "        text = page.text\n",
        "\n",
        "        inputs = tokenizer.encode_plus(ques, text, return_tensors='pt', max_length=512, truncation=True)\n",
        "        answer_start_scores, answer_end_scores = model(**inputs).values()\n",
        "\n",
        "        answer_start = torch.argmax(answer_start_scores)\n",
        "        answer_end = torch.argmax(answer_end_scores) + 1\n",
        "\n",
        "        ans = tokenizer.decode(inputs['input_ids'][0][answer_start:answer_end], skip_special_tokens=True)\n",
        "\n",
        "        st.write(f\"Question: {ques}\")\n",
        "        st.write(f\"Answer: {ans}\")\n",
        "\n",
        "    # Display question history\n",
        "    question_history.write(\"Question History:\")\n",
        "    for i, question in enumerate(st.session_state.question_history):\n",
        "        question_history.write(f\"{i + 1}. {question}\")\n",
        "\n",
        "if __name__ == \"__main__\":\n",
        "    main()\n"
      ],
      "metadata": {
        "id": "kJc5WA2MkXxB"
      },
      "execution_count": null,
      "outputs": []
    },
    {
      "cell_type": "code",
      "source": [],
      "metadata": {
        "id": "DoynIr3I8IaG"
      },
      "execution_count": null,
      "outputs": []
    }
  ],
  "metadata": {
    "colab": {
      "provenance": [],
      "gpuType": "T4"
    },
    "kernelspec": {
      "display_name": "Python 3",
      "name": "python3"
    },
    "language_info": {
      "name": "python"
    },
    "accelerator": "GPU"
  },
  "nbformat": 4,
  "nbformat_minor": 0
}